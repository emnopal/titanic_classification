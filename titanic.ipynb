{
 "cells": [
  {
   "cell_type": "code",
   "execution_count": 1,
   "id": "7bbdee2b",
   "metadata": {
    "ExecuteTime": {
     "end_time": "2021-08-08T13:18:18.355712Z",
     "start_time": "2021-08-08T13:18:16.880230Z"
    }
   },
   "outputs": [],
   "source": [
    "import pandas as pd\n",
    "import numpy as np\n",
    "import matplotlib.pyplot as plt\n",
    "import seaborn as sns\n",
    "import warnings; warnings.simplefilter('ignore')"
   ]
  },
  {
   "cell_type": "markdown",
   "id": "58007eee",
   "metadata": {},
   "source": [
    "# EDA"
   ]
  },
  {
   "cell_type": "code",
   "execution_count": 2,
   "id": "91d29641",
   "metadata": {
    "ExecuteTime": {
     "end_time": "2021-08-08T13:18:18.391515Z",
     "start_time": "2021-08-08T13:18:18.357779Z"
    }
   },
   "outputs": [],
   "source": [
    "# Read csv file\n",
    "titanic = pd.read_csv('titanic/train.csv')\n",
    "titanic_test = pd.read_csv('titanic/test.csv')"
   ]
  },
  {
   "cell_type": "code",
   "execution_count": 3,
   "id": "88afdfcc",
   "metadata": {
    "ExecuteTime": {
     "end_time": "2021-08-08T13:18:18.438352Z",
     "start_time": "2021-08-08T13:18:18.391515Z"
    }
   },
   "outputs": [
    {
     "data": {
      "text/html": [
       "<div>\n",
       "<style scoped>\n",
       "    .dataframe tbody tr th:only-of-type {\n",
       "        vertical-align: middle;\n",
       "    }\n",
       "\n",
       "    .dataframe tbody tr th {\n",
       "        vertical-align: top;\n",
       "    }\n",
       "\n",
       "    .dataframe thead th {\n",
       "        text-align: right;\n",
       "    }\n",
       "</style>\n",
       "<table border=\"1\" class=\"dataframe\">\n",
       "  <thead>\n",
       "    <tr style=\"text-align: right;\">\n",
       "      <th></th>\n",
       "      <th>PassengerId</th>\n",
       "      <th>Survived</th>\n",
       "      <th>Pclass</th>\n",
       "      <th>Name</th>\n",
       "      <th>Sex</th>\n",
       "      <th>Age</th>\n",
       "      <th>SibSp</th>\n",
       "      <th>Parch</th>\n",
       "      <th>Ticket</th>\n",
       "      <th>Fare</th>\n",
       "      <th>Cabin</th>\n",
       "      <th>Embarked</th>\n",
       "    </tr>\n",
       "  </thead>\n",
       "  <tbody>\n",
       "    <tr>\n",
       "      <th>0</th>\n",
       "      <td>1</td>\n",
       "      <td>0</td>\n",
       "      <td>3</td>\n",
       "      <td>Braund, Mr. Owen Harris</td>\n",
       "      <td>male</td>\n",
       "      <td>22.0</td>\n",
       "      <td>1</td>\n",
       "      <td>0</td>\n",
       "      <td>A/5 21171</td>\n",
       "      <td>7.2500</td>\n",
       "      <td>NaN</td>\n",
       "      <td>S</td>\n",
       "    </tr>\n",
       "    <tr>\n",
       "      <th>1</th>\n",
       "      <td>2</td>\n",
       "      <td>1</td>\n",
       "      <td>1</td>\n",
       "      <td>Cumings, Mrs. John Bradley (Florence Briggs Th...</td>\n",
       "      <td>female</td>\n",
       "      <td>38.0</td>\n",
       "      <td>1</td>\n",
       "      <td>0</td>\n",
       "      <td>PC 17599</td>\n",
       "      <td>71.2833</td>\n",
       "      <td>C85</td>\n",
       "      <td>C</td>\n",
       "    </tr>\n",
       "    <tr>\n",
       "      <th>2</th>\n",
       "      <td>3</td>\n",
       "      <td>1</td>\n",
       "      <td>3</td>\n",
       "      <td>Heikkinen, Miss. Laina</td>\n",
       "      <td>female</td>\n",
       "      <td>26.0</td>\n",
       "      <td>0</td>\n",
       "      <td>0</td>\n",
       "      <td>STON/O2. 3101282</td>\n",
       "      <td>7.9250</td>\n",
       "      <td>NaN</td>\n",
       "      <td>S</td>\n",
       "    </tr>\n",
       "    <tr>\n",
       "      <th>3</th>\n",
       "      <td>4</td>\n",
       "      <td>1</td>\n",
       "      <td>1</td>\n",
       "      <td>Futrelle, Mrs. Jacques Heath (Lily May Peel)</td>\n",
       "      <td>female</td>\n",
       "      <td>35.0</td>\n",
       "      <td>1</td>\n",
       "      <td>0</td>\n",
       "      <td>113803</td>\n",
       "      <td>53.1000</td>\n",
       "      <td>C123</td>\n",
       "      <td>S</td>\n",
       "    </tr>\n",
       "    <tr>\n",
       "      <th>4</th>\n",
       "      <td>5</td>\n",
       "      <td>0</td>\n",
       "      <td>3</td>\n",
       "      <td>Allen, Mr. William Henry</td>\n",
       "      <td>male</td>\n",
       "      <td>35.0</td>\n",
       "      <td>0</td>\n",
       "      <td>0</td>\n",
       "      <td>373450</td>\n",
       "      <td>8.0500</td>\n",
       "      <td>NaN</td>\n",
       "      <td>S</td>\n",
       "    </tr>\n",
       "    <tr>\n",
       "      <th>5</th>\n",
       "      <td>6</td>\n",
       "      <td>0</td>\n",
       "      <td>3</td>\n",
       "      <td>Moran, Mr. James</td>\n",
       "      <td>male</td>\n",
       "      <td>NaN</td>\n",
       "      <td>0</td>\n",
       "      <td>0</td>\n",
       "      <td>330877</td>\n",
       "      <td>8.4583</td>\n",
       "      <td>NaN</td>\n",
       "      <td>Q</td>\n",
       "    </tr>\n",
       "    <tr>\n",
       "      <th>6</th>\n",
       "      <td>7</td>\n",
       "      <td>0</td>\n",
       "      <td>1</td>\n",
       "      <td>McCarthy, Mr. Timothy J</td>\n",
       "      <td>male</td>\n",
       "      <td>54.0</td>\n",
       "      <td>0</td>\n",
       "      <td>0</td>\n",
       "      <td>17463</td>\n",
       "      <td>51.8625</td>\n",
       "      <td>E46</td>\n",
       "      <td>S</td>\n",
       "    </tr>\n",
       "    <tr>\n",
       "      <th>7</th>\n",
       "      <td>8</td>\n",
       "      <td>0</td>\n",
       "      <td>3</td>\n",
       "      <td>Palsson, Master. Gosta Leonard</td>\n",
       "      <td>male</td>\n",
       "      <td>2.0</td>\n",
       "      <td>3</td>\n",
       "      <td>1</td>\n",
       "      <td>349909</td>\n",
       "      <td>21.0750</td>\n",
       "      <td>NaN</td>\n",
       "      <td>S</td>\n",
       "    </tr>\n",
       "    <tr>\n",
       "      <th>8</th>\n",
       "      <td>9</td>\n",
       "      <td>1</td>\n",
       "      <td>3</td>\n",
       "      <td>Johnson, Mrs. Oscar W (Elisabeth Vilhelmina Berg)</td>\n",
       "      <td>female</td>\n",
       "      <td>27.0</td>\n",
       "      <td>0</td>\n",
       "      <td>2</td>\n",
       "      <td>347742</td>\n",
       "      <td>11.1333</td>\n",
       "      <td>NaN</td>\n",
       "      <td>S</td>\n",
       "    </tr>\n",
       "    <tr>\n",
       "      <th>9</th>\n",
       "      <td>10</td>\n",
       "      <td>1</td>\n",
       "      <td>2</td>\n",
       "      <td>Nasser, Mrs. Nicholas (Adele Achem)</td>\n",
       "      <td>female</td>\n",
       "      <td>14.0</td>\n",
       "      <td>1</td>\n",
       "      <td>0</td>\n",
       "      <td>237736</td>\n",
       "      <td>30.0708</td>\n",
       "      <td>NaN</td>\n",
       "      <td>C</td>\n",
       "    </tr>\n",
       "  </tbody>\n",
       "</table>\n",
       "</div>"
      ],
      "text/plain": [
       "   PassengerId  Survived  Pclass  \\\n",
       "0            1         0       3   \n",
       "1            2         1       1   \n",
       "2            3         1       3   \n",
       "3            4         1       1   \n",
       "4            5         0       3   \n",
       "5            6         0       3   \n",
       "6            7         0       1   \n",
       "7            8         0       3   \n",
       "8            9         1       3   \n",
       "9           10         1       2   \n",
       "\n",
       "                                                Name     Sex   Age  SibSp  \\\n",
       "0                            Braund, Mr. Owen Harris    male  22.0      1   \n",
       "1  Cumings, Mrs. John Bradley (Florence Briggs Th...  female  38.0      1   \n",
       "2                             Heikkinen, Miss. Laina  female  26.0      0   \n",
       "3       Futrelle, Mrs. Jacques Heath (Lily May Peel)  female  35.0      1   \n",
       "4                           Allen, Mr. William Henry    male  35.0      0   \n",
       "5                                   Moran, Mr. James    male   NaN      0   \n",
       "6                            McCarthy, Mr. Timothy J    male  54.0      0   \n",
       "7                     Palsson, Master. Gosta Leonard    male   2.0      3   \n",
       "8  Johnson, Mrs. Oscar W (Elisabeth Vilhelmina Berg)  female  27.0      0   \n",
       "9                Nasser, Mrs. Nicholas (Adele Achem)  female  14.0      1   \n",
       "\n",
       "   Parch            Ticket     Fare Cabin Embarked  \n",
       "0      0         A/5 21171   7.2500   NaN        S  \n",
       "1      0          PC 17599  71.2833   C85        C  \n",
       "2      0  STON/O2. 3101282   7.9250   NaN        S  \n",
       "3      0            113803  53.1000  C123        S  \n",
       "4      0            373450   8.0500   NaN        S  \n",
       "5      0            330877   8.4583   NaN        Q  \n",
       "6      0             17463  51.8625   E46        S  \n",
       "7      1            349909  21.0750   NaN        S  \n",
       "8      2            347742  11.1333   NaN        S  \n",
       "9      0            237736  30.0708   NaN        C  "
      ]
     },
     "execution_count": 3,
     "metadata": {},
     "output_type": "execute_result"
    }
   ],
   "source": [
    "titanic.head(10)"
   ]
  },
  {
   "cell_type": "code",
   "execution_count": 4,
   "id": "617fba9e",
   "metadata": {
    "ExecuteTime": {
     "end_time": "2021-08-08T13:18:18.469585Z",
     "start_time": "2021-08-08T13:18:18.438352Z"
    }
   },
   "outputs": [
    {
     "name": "stdout",
     "output_type": "stream",
     "text": [
      "<class 'pandas.core.frame.DataFrame'>\n",
      "RangeIndex: 891 entries, 0 to 890\n",
      "Data columns (total 12 columns):\n",
      " #   Column       Non-Null Count  Dtype  \n",
      "---  ------       --------------  -----  \n",
      " 0   PassengerId  891 non-null    int64  \n",
      " 1   Survived     891 non-null    int64  \n",
      " 2   Pclass       891 non-null    int64  \n",
      " 3   Name         891 non-null    object \n",
      " 4   Sex          891 non-null    object \n",
      " 5   Age          714 non-null    float64\n",
      " 6   SibSp        891 non-null    int64  \n",
      " 7   Parch        891 non-null    int64  \n",
      " 8   Ticket       891 non-null    object \n",
      " 9   Fare         891 non-null    float64\n",
      " 10  Cabin        204 non-null    object \n",
      " 11  Embarked     889 non-null    object \n",
      "dtypes: float64(2), int64(5), object(5)\n",
      "memory usage: 83.7+ KB\n"
     ]
    }
   ],
   "source": [
    "titanic.info()"
   ]
  },
  {
   "cell_type": "code",
   "execution_count": 5,
   "id": "b0c5b481",
   "metadata": {
    "ExecuteTime": {
     "end_time": "2021-08-08T13:18:18.491737Z",
     "start_time": "2021-08-08T13:18:18.469585Z"
    }
   },
   "outputs": [
    {
     "name": "stdout",
     "output_type": "stream",
     "text": [
      "Titanic Columns = Index(['PassengerId', 'Survived', 'Pclass', 'Name', 'Sex', 'Age', 'SibSp',\n",
      "       'Parch', 'Ticket', 'Fare', 'Cabin', 'Embarked'],\n",
      "      dtype='object')\n",
      "Titanic Test Columns = Index(['PassengerId', 'Pclass', 'Name', 'Sex', 'Age', 'SibSp', 'Parch',\n",
      "       'Ticket', 'Fare', 'Cabin', 'Embarked'],\n",
      "      dtype='object')\n"
     ]
    }
   ],
   "source": [
    "print(f'Titanic Columns = {titanic.columns}')\n",
    "print(f'Titanic Test Columns = {titanic_test.columns}')"
   ]
  },
  {
   "cell_type": "markdown",
   "id": "e109a899",
   "metadata": {},
   "source": [
    "What is the meaning of `'PassengerId', 'Survived', 'Pclass', 'Name', 'Sex', 'Age', 'SibSp', 'Parch', 'Ticket', 'Fare', 'Cabin', 'Embarked'` ?"
   ]
  },
  {
   "cell_type": "markdown",
   "id": "1c462344",
   "metadata": {},
   "source": [
    "|Variable|Definition|Key|\n",
    "|--------|----------|---|\n",
    "|Survival|Survival Passenger|0 = No, 1 = Yes|\n",
    "|Pclass  |Ticket class|1 = 1st, 2 = 2nd, 3 = 3rd|\n",
    "|Sex     |Gender||\n",
    "|Age     |Age||\n",
    "|SibSP   |Siblings / Spouses ||\n",
    "|Parch   |Parents / Children ||\n",
    "|Ticket  |Ticket Number||\n",
    "|Fare    |Passenger paid for||\n",
    "|Cabin   |Cabin Number||\n",
    "|Embarked|Port of Embarkation|C = Cherbourg, Q = Queenstown, S = Southampton|\n",
    "|Name|Name of passenger||\n",
    "|PassengerID|Passenger id||"
   ]
  },
  {
   "cell_type": "markdown",
   "id": "15811a21",
   "metadata": {},
   "source": [
    "This dataset is for classify of survived or not surivived passenger on the titanic disaster, so the `Survival` variable is label, else is features"
   ]
  },
  {
   "cell_type": "markdown",
   "id": "656def68",
   "metadata": {},
   "source": [
    "## NaN Data"
   ]
  },
  {
   "cell_type": "markdown",
   "id": "5beb3e03",
   "metadata": {},
   "source": [
    "Check NaN Values, and replacing them"
   ]
  },
  {
   "cell_type": "code",
   "execution_count": 6,
   "id": "bfe0febd",
   "metadata": {
    "ExecuteTime": {
     "end_time": "2021-08-08T13:18:19.093429Z",
     "start_time": "2021-08-08T13:18:18.491737Z"
    }
   },
   "outputs": [
    {
     "name": "stdout",
     "output_type": "stream",
     "text": [
      "NaN value: \n",
      "Age: 177\n",
      "Cabin: 687\n",
      "Embarked: 2\n"
     ]
    },
    {
     "data": {
      "image/png": "[encoded data removed]",
      "text/plain": [
       "<Figure size 432x288 with 2 Axes>"
      ]
     },
     "metadata": {
      "needs_background": "light"
     },
     "output_type": "display_data"
    }
   ],
   "source": [
    "_ = sns.heatmap(titanic.isna())\n",
    "\n",
    "print('NaN value: ')\n",
    "for key, value in titanic.isna().sum().to_dict().items():\n",
    "    if value != 0:\n",
    "        print(f\"{key}: {value}\")"
   ]
  },
  {
   "cell_type": "code",
   "execution_count": 7,
   "id": "3b9e07db",
   "metadata": {
    "ExecuteTime": {
     "end_time": "2021-08-08T13:18:19.356494Z",
     "start_time": "2021-08-08T13:18:19.093429Z"
    }
   },
   "outputs": [
    {
     "name": "stdout",
     "output_type": "stream",
     "text": [
      "False\n"
     ]
    },
    {
     "data": {
      "image/png": "[encoded data removed]",
      "text/plain": [
       "<Figure size 432x288 with 1 Axes>"
      ]
     },
     "metadata": {
      "needs_background": "light"
     },
     "output_type": "display_data"
    }
   ],
   "source": [
    "# Replacing nan with mean\n",
    "titanic['Age'] = titanic['Age'].replace(np.nan, titanic['Age'].mean())\n",
    "\n",
    "# Checking if still any nan data\n",
    "print(titanic['Age'].isna().any())\n",
    "\n",
    "_ = sns.distplot(titanic['Age'])"
   ]
  },
  {
   "cell_type": "code",
   "execution_count": 8,
   "id": "c3ee7c9b",
   "metadata": {
    "ExecuteTime": {
     "end_time": "2021-08-08T13:18:19.641679Z",
     "start_time": "2021-08-08T13:18:19.356494Z"
    }
   },
   "outputs": [
    {
     "name": "stdout",
     "output_type": "stream",
     "text": [
      "Total Non Nan Value: 204\n",
      "NaN data? True\n"
     ]
    },
    {
     "data": {
      "image/png": "[encoded data removed]",
      "text/plain": [
       "<Figure size 432x288 with 1 Axes>"
      ]
     },
     "metadata": {
      "needs_background": "light"
     },
     "output_type": "display_data"
    }
   ],
   "source": [
    "# See non- NaN value data in Cabin\n",
    "alp_data = []\n",
    "for data in titanic['Cabin'].values:\n",
    "    if type(data) != float:\n",
    "        alp_data.append(data[0])\n",
    "\n",
    "result = 0\n",
    "letters = []\n",
    "count_letters = []\n",
    "for i in list(set(alp_data)):\n",
    "    letters.append(i)\n",
    "    count_letters.append(np.unique(titanic['Cabin'].str.startswith(i, na=False).values, return_counts=True)[1][1])\n",
    "    result += np.unique(titanic['Cabin'].str.startswith(i, na=False).values, return_counts=True)[1][1]\n",
    "\n",
    "print(f\"Total Non Nan Value: {result}\")\n",
    "\n",
    "splot = sns.barplot(x=letters, y=count_letters)\n",
    "for p in splot.patches:\n",
    "    splot.annotate(format(p.get_height(), '.1f'), \n",
    "                   (p.get_x() + p.get_width() / 2., p.get_height()), \n",
    "                   ha = 'center', va = 'center', \n",
    "                   xytext = (0, 8), \n",
    "                   textcoords = 'offset points')\n",
    "_ = plt.ylim(0, 65)\n",
    "\n",
    "# Checking NaN data is still available?\n",
    "print(f\"NaN data? {titanic['Cabin'].isna().any()}\")"
   ]
  },
  {
   "cell_type": "code",
   "execution_count": 9,
   "id": "28e8e7fa",
   "metadata": {
    "ExecuteTime": {
     "end_time": "2021-08-08T13:18:19.973793Z",
     "start_time": "2021-08-08T13:18:19.641679Z"
    }
   },
   "outputs": [
    {
     "name": "stdout",
     "output_type": "stream",
     "text": [
      "Total Non Nan Value: 891\n",
      "NaN data? False\n"
     ]
    },
    {
     "data": {
      "image/png": "[encoded data removed]",
      "text/plain": [
       "<Figure size 432x288 with 1 Axes>"
      ]
     },
     "metadata": {
      "needs_background": "light"
     },
     "output_type": "display_data"
    }
   ],
   "source": [
    "# Replace nan value to something letter in alphabet, and replacing Cabin ID with first letter of the Cabin ID\n",
    "titanic['Cabin'].fillna('N_cabin', inplace=True) # change to N\n",
    "\n",
    "for i in list(set(alp_data)):\n",
    "    # replace Cabin ID with first letter of the Cabin ID   \n",
    "    titanic.loc[titanic['Cabin'].str.startswith(i), 'Cabin'] = f\"{i}_cabin\" \n",
    "\n",
    "# See non- NaN value data in Cabin\n",
    "alp_data = []\n",
    "for data in titanic['Cabin'].values:\n",
    "    if type(data) != float:\n",
    "        alp_data.append(data[0])\n",
    "\n",
    "result = 0\n",
    "letters = []\n",
    "count_letters = []\n",
    "for i in list(set(alp_data)):\n",
    "    letters.append(i)\n",
    "    count_letters.append(np.unique(titanic['Cabin'].str.startswith(i, na=False).values, return_counts=True)[1][1])\n",
    "    result += np.unique(titanic['Cabin'].str.startswith(i, na=False).values, return_counts=True)[1][1]\n",
    "\n",
    "print(f\"Total Non Nan Value: {result}\")\n",
    "\n",
    "splot = sns.barplot(x=letters, y=count_letters)\n",
    "for p in splot.patches:\n",
    "    splot.annotate(format(p.get_height(), '.1f'), \n",
    "                   (p.get_x() + p.get_width() / 2., p.get_height()), \n",
    "                   ha = 'center', va = 'center', \n",
    "                   xytext = (0, 8), \n",
    "                   textcoords = 'offset points')\n",
    "_ = plt.ylim(0, 800)\n",
    "\n",
    "# NaN data is still available?\n",
    "print(f\"NaN data? {titanic['Cabin'].isna().any()}\")"
   ]
  },
  {
   "cell_type": "code",
   "execution_count": 10,
   "id": "8f050f1d",
   "metadata": {
    "ExecuteTime": {
     "end_time": "2021-08-08T13:18:20.174365Z",
     "start_time": "2021-08-08T13:18:19.973793Z"
    }
   },
   "outputs": [
    {
     "name": "stdout",
     "output_type": "stream",
     "text": [
      "NaN Value: 2\n"
     ]
    },
    {
     "data": {
      "image/png": "[encoded data removed]",
      "text/plain": [
       "<Figure size 432x288 with 1 Axes>"
      ]
     },
     "metadata": {
      "needs_background": "light"
     },
     "output_type": "display_data"
    }
   ],
   "source": [
    "# How much NaN Value\n",
    "print(f\"NaN Value: {titanic['Embarked'].isna().value_counts().values[1]}\")\n",
    "\n",
    "# How much non NaN Value\n",
    "splot = sns.barplot(x=list(titanic['Embarked'].value_counts().index), y=titanic['Embarked'].value_counts().values)\n",
    "for p in splot.patches:\n",
    "    splot.annotate(format(p.get_height(), '.1f'), \n",
    "                   (p.get_x() + p.get_width() / 2., p.get_height()), \n",
    "                   ha = 'center', va = 'center', \n",
    "                   xytext = (0, 8), \n",
    "                   textcoords = 'offset points')\n",
    "_ = plt.ylim(0, 800)"
   ]
  },
  {
   "cell_type": "code",
   "execution_count": 11,
   "id": "19717d7b",
   "metadata": {
    "ExecuteTime": {
     "end_time": "2021-08-08T13:18:20.397199Z",
     "start_time": "2021-08-08T13:18:20.174365Z"
    }
   },
   "outputs": [
    {
     "name": "stdout",
     "output_type": "stream",
     "text": [
      "NaN Value? False\n"
     ]
    },
    {
     "data": {
      "image/png": "[encoded data removed]",
      "text/plain": [
       "<Figure size 432x288 with 1 Axes>"
      ]
     },
     "metadata": {
      "needs_background": "light"
     },
     "output_type": "display_data"
    }
   ],
   "source": [
    "titanic['Embarked'].fillna('N', inplace=True) # change to N\n",
    "\n",
    "for i in list(titanic['Embarked'].value_counts().index):\n",
    "    titanic.loc[titanic['Embarked'].str.startswith(i), 'Embarked'] = f\"{i}_embarked\" \n",
    "\n",
    "# is NaN value is still available\n",
    "print(f\"NaN Value? {titanic['Embarked'].isna().any()}\")\n",
    "\n",
    "# How much non NaN Value\n",
    "splot = sns.barplot(x=list(titanic['Embarked'].value_counts().index), y=titanic['Embarked'].value_counts().values)\n",
    "for p in splot.patches:\n",
    "    splot.annotate(format(p.get_height(), '.1f'), \n",
    "                   (p.get_x() + p.get_width() / 2., p.get_height()), \n",
    "                   ha = 'center', va = 'center', \n",
    "                   xytext = (0, 8), \n",
    "                   textcoords = 'offset points')\n",
    "_ = plt.ylim(0, 800)"
   ]
  },
  {
   "cell_type": "code",
   "execution_count": 12,
   "id": "0283e639",
   "metadata": {
    "ExecuteTime": {
     "end_time": "2021-08-08T13:18:20.976693Z",
     "start_time": "2021-08-08T13:18:20.397199Z"
    }
   },
   "outputs": [
    {
     "name": "stdout",
     "output_type": "stream",
     "text": [
      "NaN value: \n"
     ]
    },
    {
     "data": {
      "image/png": "[encoded data removed]",
      "text/plain": [
       "<Figure size 432x288 with 2 Axes>"
      ]
     },
     "metadata": {
      "needs_background": "light"
     },
     "output_type": "display_data"
    }
   ],
   "source": [
    "# is NaN value is still available?\n",
    "\n",
    "_ = sns.heatmap(titanic.isna())\n",
    "\n",
    "print('NaN value: ')\n",
    "for key, value in titanic.isna().sum().to_dict().items():\n",
    "    if value != 0:\n",
    "        print(f\"{key}: {value}\")\n",
    "\n",
    "# yeah, that's gone"
   ]
  },
  {
   "cell_type": "markdown",
   "id": "43d2af1b",
   "metadata": {},
   "source": [
    "## Visualizing the data"
   ]
  },
  {
   "cell_type": "markdown",
   "id": "a9512d9a",
   "metadata": {},
   "source": [
    "Now, is visualizing the data"
   ]
  },
  {
   "cell_type": "code",
   "execution_count": 13,
   "id": "b5bfa7f1",
   "metadata": {
    "ExecuteTime": {
     "end_time": "2021-08-08T13:18:21.177246Z",
     "start_time": "2021-08-08T13:18:20.976693Z"
    }
   },
   "outputs": [
    {
     "data": {
      "image/png": "[encoded data removed]",
      "text/plain": [
       "<Figure size 432x288 with 1 Axes>"
      ]
     },
     "metadata": {
      "needs_background": "light"
     },
     "output_type": "display_data"
    }
   ],
   "source": [
    "# it's time to visualizing the data\n",
    "\n",
    "# Survived columns\n",
    "splot = sns.barplot(x=list(titanic['Survived'].value_counts().index), y=titanic['Survived'].value_counts().values)\n",
    "for p in splot.patches:\n",
    "    splot.annotate(format(p.get_height(), '.1f'), \n",
    "                   (p.get_x() + p.get_width() / 2., p.get_height()), \n",
    "                   ha = 'center', va = 'center', \n",
    "                   xytext = (0, 8), \n",
    "                   textcoords = 'offset points')\n",
    "_ = plt.ylim(0, 800)"
   ]
  },
  {
   "cell_type": "code",
   "execution_count": 14,
   "id": "9e90c552",
   "metadata": {
    "ExecuteTime": {
     "end_time": "2021-08-08T13:18:21.399944Z",
     "start_time": "2021-08-08T13:18:21.177246Z"
    }
   },
   "outputs": [
    {
     "data": {
      "image/png": "[encoded data removed]",
      "text/plain": [
       "<Figure size 432x288 with 1 Axes>"
      ]
     },
     "metadata": {
      "needs_background": "light"
     },
     "output_type": "display_data"
    }
   ],
   "source": [
    "# Pclass columns\n",
    "splot = sns.barplot(x=list(titanic['Pclass'].value_counts().index), y=titanic['Pclass'].value_counts().values)\n",
    "for p in splot.patches:\n",
    "    splot.annotate(format(p.get_height(), '.1f'), \n",
    "                   (p.get_x() + p.get_width() / 2., p.get_height()), \n",
    "                   ha = 'center', va = 'center', \n",
    "                   xytext = (0, 8), \n",
    "                   textcoords = 'offset points')\n",
    "_ = plt.ylim(0, 600)"
   ]
  },
  {
   "cell_type": "code",
   "execution_count": 15,
   "id": "7582863f",
   "metadata": {
    "ExecuteTime": {
     "end_time": "2021-08-08T13:18:21.662967Z",
     "start_time": "2021-08-08T13:18:21.399944Z"
    }
   },
   "outputs": [
    {
     "data": {
      "image/png": "[encoded data removed]",
      "text/plain": [
       "<Figure size 432x288 with 1 Axes>"
      ]
     },
     "metadata": {
      "needs_background": "light"
     },
     "output_type": "display_data"
    }
   ],
   "source": [
    "# Sex\n",
    "splot = sns.barplot(x=list(titanic['Sex'].value_counts().index), y=titanic['Sex'].value_counts().values)\n",
    "for p in splot.patches:\n",
    "    splot.annotate(format(p.get_height(), '.1f'), \n",
    "                   (p.get_x() + p.get_width() / 2., p.get_height()), \n",
    "                   ha = 'center', va = 'center', \n",
    "                   xytext = (0, 8), \n",
    "                   textcoords = 'offset points')\n",
    "_ = plt.ylim(0, 700)"
   ]
  },
  {
   "cell_type": "code",
   "execution_count": 16,
   "id": "c0fda0e7",
   "metadata": {
    "ExecuteTime": {
     "end_time": "2021-08-08T13:18:21.932651Z",
     "start_time": "2021-08-08T13:18:21.662967Z"
    }
   },
   "outputs": [
    {
     "data": {
      "image/png": "[encoded data removed]",
      "text/plain": [
       "<Figure size 432x288 with 1 Axes>"
      ]
     },
     "metadata": {
      "needs_background": "light"
     },
     "output_type": "display_data"
    }
   ],
   "source": [
    "# Age\n",
    "_ = sns.histplot(titanic['Age'])"
   ]
  },
  {
   "cell_type": "code",
   "execution_count": 17,
   "id": "5019a9f2",
   "metadata": {
    "ExecuteTime": {
     "end_time": "2021-08-08T13:18:22.202238Z",
     "start_time": "2021-08-08T13:18:21.932651Z"
    }
   },
   "outputs": [
    {
     "data": {
      "image/png": "[encoded data removed]",
      "text/plain": [
       "<Figure size 432x288 with 1 Axes>"
      ]
     },
     "metadata": {
      "needs_background": "light"
     },
     "output_type": "display_data"
    }
   ],
   "source": [
    "# SibSp\n",
    "splot = sns.barplot(x=list(titanic['SibSp'].value_counts().index), y=titanic['SibSp'].value_counts().values)\n",
    "for p in splot.patches:\n",
    "    splot.annotate(format(p.get_height(), '.1f'), \n",
    "                   (p.get_x() + p.get_width() / 2., p.get_height()), \n",
    "                   ha = 'center', va = 'center', \n",
    "                   xytext = (0, 8), \n",
    "                   textcoords = 'offset points')\n",
    "_ = plt.ylim(0, 700)"
   ]
  },
  {
   "cell_type": "code",
   "execution_count": 18,
   "id": "0bc44786",
   "metadata": {
    "ExecuteTime": {
     "end_time": "2021-08-08T13:18:22.469744Z",
     "start_time": "2021-08-08T13:18:22.202238Z"
    }
   },
   "outputs": [
    {
     "data": {
      "image/png": "[encoded data removed]",
      "text/plain": [
       "<Figure size 432x288 with 1 Axes>"
      ]
     },
     "metadata": {
      "needs_background": "light"
     },
     "output_type": "display_data"
    }
   ],
   "source": [
    "# Parch\n",
    "splot = sns.barplot(x=list(titanic['Parch'].value_counts().index), y=titanic['Parch'].value_counts().values)\n",
    "for p in splot.patches:\n",
    "    splot.annotate(format(p.get_height(), '.1f'), \n",
    "                   (p.get_x() + p.get_width() / 2., p.get_height()), \n",
    "                   ha = 'center', va = 'center', \n",
    "                   xytext = (0, 8), \n",
    "                   textcoords = 'offset points')\n",
    "_ = plt.ylim(0, 800)"
   ]
  },
  {
   "cell_type": "code",
   "execution_count": 19,
   "id": "8409021f",
   "metadata": {
    "ExecuteTime": {
     "end_time": "2021-08-08T13:18:22.881898Z",
     "start_time": "2021-08-08T13:18:22.469744Z"
    }
   },
   "outputs": [
    {
     "data": {
      "image/png": "[encoded data removed]",
      "text/plain": [
       "<Figure size 432x288 with 1 Axes>"
      ]
     },
     "metadata": {
      "needs_background": "light"
     },
     "output_type": "display_data"
    }
   ],
   "source": [
    "# Fare\n",
    "_ = sns.histplot(titanic['Fare'])"
   ]
  },
  {
   "cell_type": "code",
   "execution_count": 20,
   "id": "f60564ed",
   "metadata": {
    "ExecuteTime": {
     "end_time": "2021-08-08T13:18:23.182706Z",
     "start_time": "2021-08-08T13:18:22.881898Z"
    }
   },
   "outputs": [
    {
     "data": {
      "image/png": "[encoded data removed]",
      "text/plain": [
       "<Figure size 432x288 with 1 Axes>"
      ]
     },
     "metadata": {
      "needs_background": "light"
     },
     "output_type": "display_data"
    }
   ],
   "source": [
    "# Cabin\n",
    "splot = sns.barplot(x=list(titanic['Cabin'].value_counts().index), y=titanic['Cabin'].value_counts().values)\n",
    "for p in splot.patches:\n",
    "    splot.annotate(format(p.get_height(), '.1f'), \n",
    "                   (p.get_x() + p.get_width() / 2., p.get_height()), \n",
    "                   ha = 'center', va = 'center', \n",
    "                   xytext = (0, 8), \n",
    "                   textcoords = 'offset points')\n",
    "_ = plt.ylim(0, 800)"
   ]
  },
  {
   "cell_type": "code",
   "execution_count": 21,
   "id": "0d43d869",
   "metadata": {
    "ExecuteTime": {
     "end_time": "2021-08-08T13:18:23.405433Z",
     "start_time": "2021-08-08T13:18:23.182706Z"
    }
   },
   "outputs": [
    {
     "data": {
      "image/png": "[encoded data removed]",
      "text/plain": [
       "<Figure size 432x288 with 1 Axes>"
      ]
     },
     "metadata": {
      "needs_background": "light"
     },
     "output_type": "display_data"
    }
   ],
   "source": [
    "# Embarked\n",
    "splot = sns.barplot(x=list(titanic['Embarked'].value_counts().index), y=titanic['Embarked'].value_counts().values)\n",
    "for p in splot.patches:\n",
    "    splot.annotate(format(p.get_height(), '.1f'), \n",
    "                   (p.get_x() + p.get_width() / 2., p.get_height()), \n",
    "                   ha = 'center', va = 'center', \n",
    "                   xytext = (0, 8), \n",
    "                   textcoords = 'offset points')\n",
    "_ = plt.ylim(0, 800)"
   ]
  },
  {
   "cell_type": "markdown",
   "id": "1b013d0e",
   "metadata": {},
   "source": [
    "## One hot encoding"
   ]
  },
  {
   "cell_type": "markdown",
   "id": "a59cca0d",
   "metadata": {},
   "source": [
    "One hot encoding and converting all dataset to one datatype (float64)"
   ]
  },
  {
   "cell_type": "code",
   "execution_count": 22,
   "id": "1306f417",
   "metadata": {
    "ExecuteTime": {
     "end_time": "2021-08-08T13:18:23.421093Z",
     "start_time": "2021-08-08T13:18:23.405433Z"
    }
   },
   "outputs": [
    {
     "name": "stdout",
     "output_type": "stream",
     "text": [
      "PassengerId      int64\n",
      "Survived         int64\n",
      "Pclass           int64\n",
      "Name            object\n",
      "Sex             object\n",
      "Age            float64\n",
      "SibSp            int64\n",
      "Parch            int64\n",
      "Ticket          object\n",
      "Fare           float64\n",
      "Cabin           object\n",
      "Embarked        object\n",
      "dtype: object\n"
     ]
    }
   ],
   "source": [
    "'''\n",
    "non float64 is Survived, Pclass, Sex, \n",
    "               SibSp, Parch, Cabin and Embarked\n",
    "'''\n",
    "print(titanic.dtypes)"
   ]
  },
  {
   "cell_type": "code",
   "execution_count": 23,
   "id": "ab69b152",
   "metadata": {
    "ExecuteTime": {
     "end_time": "2021-08-08T13:18:23.452303Z",
     "start_time": "2021-08-08T13:18:23.421093Z"
    }
   },
   "outputs": [
    {
     "data": {
      "text/plain": [
       "Index(['PassengerId', 'Survived', 'Pclass', 'Name', 'Sex', 'Age', 'SibSp',\n",
       "       'Parch', 'Ticket', 'Fare', 'Cabin', 'Embarked'],\n",
       "      dtype='object')"
      ]
     },
     "execution_count": 23,
     "metadata": {},
     "output_type": "execute_result"
    }
   ],
   "source": [
    "# Now, this is the columns after one hot encoding\n",
    "titanic.columns"
   ]
  },
  {
   "cell_type": "code",
   "execution_count": 24,
   "id": "159216bf",
   "metadata": {
    "ExecuteTime": {
     "end_time": "2021-08-08T13:18:23.467919Z",
     "start_time": "2021-08-08T13:18:23.452303Z"
    }
   },
   "outputs": [
    {
     "name": "stdout",
     "output_type": "stream",
     "text": [
      "PassengerId      int64\n",
      "Survived         int64\n",
      "Pclass           int64\n",
      "Name            object\n",
      "Sex             object\n",
      "Age            float64\n",
      "SibSp            int64\n",
      "Parch            int64\n",
      "Ticket          object\n",
      "Fare           float64\n",
      "Cabin           object\n",
      "Embarked        object\n",
      "dtype: object\n"
     ]
    }
   ],
   "source": [
    "# After it, we convert non float64 to float64\n",
    "print(titanic.dtypes)"
   ]
  },
  {
   "cell_type": "markdown",
   "id": "44d50159",
   "metadata": {},
   "source": [
    "Convert int64 to float64"
   ]
  },
  {
   "cell_type": "code",
   "execution_count": 25,
   "id": "f4a06189",
   "metadata": {
    "ExecuteTime": {
     "end_time": "2021-08-08T13:18:23.505705Z",
     "start_time": "2021-08-08T13:18:23.467919Z"
    }
   },
   "outputs": [],
   "source": [
    "# first, with int64 to float64\n",
    "for variable, dtype in titanic.dtypes.items():\n",
    "    if dtype == 'int64':\n",
    "        titanic[variable] = titanic[variable].astype('float64')"
   ]
  },
  {
   "cell_type": "code",
   "execution_count": 26,
   "id": "645b1e84",
   "metadata": {
    "ExecuteTime": {
     "end_time": "2021-08-08T13:18:23.536940Z",
     "start_time": "2021-08-08T13:18:23.505705Z"
    }
   },
   "outputs": [
    {
     "name": "stdout",
     "output_type": "stream",
     "text": [
      "PassengerId    float64\n",
      "Survived       float64\n",
      "Pclass         float64\n",
      "Name            object\n",
      "Sex             object\n",
      "Age            float64\n",
      "SibSp          float64\n",
      "Parch          float64\n",
      "Ticket          object\n",
      "Fare           float64\n",
      "Cabin           object\n",
      "Embarked        object\n",
      "dtype: object\n"
     ]
    }
   ],
   "source": [
    "print(titanic.dtypes)"
   ]
  },
  {
   "cell_type": "markdown",
   "id": "68bdd1ef",
   "metadata": {},
   "source": [
    "One hot encoding"
   ]
  },
  {
   "cell_type": "code",
   "execution_count": 27,
   "id": "d568f2a2",
   "metadata": {
    "ExecuteTime": {
     "end_time": "2021-08-08T13:18:24.721761Z",
     "start_time": "2021-08-08T13:18:23.536940Z"
    }
   },
   "outputs": [],
   "source": [
    "# Next, we convert object to float64 and one encoding them\n",
    "\n",
    "# First, 'name' column\n",
    "for num, name in enumerate(titanic['Name']):\n",
    "    titanic.loc[titanic['Name'] == name, 'Name'] = num+1\n",
    "\n",
    "# Second, 'Sex' column\n",
    "titanic.loc[titanic['Sex'] == 'male', 'Sex'] = 0\n",
    "titanic.loc[titanic['Sex'] == 'female', 'Sex'] = 1\n",
    "\n",
    "# Third, 'Embarked' column\n",
    "for num, cols in enumerate(list(titanic['Embarked'].value_counts().keys())):\n",
    "    titanic.loc[titanic['Embarked'] == cols, 'Embarked'] = num\n",
    "    \n",
    "# Forth, 'Cabin' column\n",
    "for num, cols in enumerate(list(titanic['Cabin'].value_counts().keys())):\n",
    "    titanic.loc[titanic['Cabin'] == cols, 'Cabin'] = num\n",
    "    \n",
    "# Fifth, 'Ticket' column\n",
    "for num, name in enumerate(titanic['Ticket']):\n",
    "    titanic.loc[titanic['Ticket'] == name, 'Ticket'] = num+1"
   ]
  },
  {
   "cell_type": "code",
   "execution_count": 28,
   "id": "902f8826",
   "metadata": {
    "ExecuteTime": {
     "end_time": "2021-08-08T13:18:24.737383Z",
     "start_time": "2021-08-08T13:18:24.721761Z"
    }
   },
   "outputs": [
    {
     "data": {
      "text/plain": [
       "PassengerId    float64\n",
       "Survived       float64\n",
       "Pclass         float64\n",
       "Name            object\n",
       "Sex             object\n",
       "Age            float64\n",
       "SibSp          float64\n",
       "Parch          float64\n",
       "Ticket          object\n",
       "Fare           float64\n",
       "Cabin           object\n",
       "Embarked        object\n",
       "dtype: object"
      ]
     },
     "execution_count": 28,
     "metadata": {},
     "output_type": "execute_result"
    }
   ],
   "source": [
    "titanic.dtypes"
   ]
  },
  {
   "cell_type": "markdown",
   "id": "03ccaf54",
   "metadata": {},
   "source": [
    "Convert object to float64"
   ]
  },
  {
   "cell_type": "code",
   "execution_count": 29,
   "id": "aecaca76",
   "metadata": {
    "ExecuteTime": {
     "end_time": "2021-08-08T13:18:24.768628Z",
     "start_time": "2021-08-08T13:18:24.737383Z"
    }
   },
   "outputs": [],
   "source": [
    "# object to float64\n",
    "for variable, dtype in titanic.dtypes.items():\n",
    "    if dtype == 'object':\n",
    "        titanic[variable] = titanic[variable].astype('float64')"
   ]
  },
  {
   "cell_type": "code",
   "execution_count": 30,
   "id": "f574f9a9",
   "metadata": {
    "ExecuteTime": {
     "end_time": "2021-08-08T13:18:24.806398Z",
     "start_time": "2021-08-08T13:18:24.768628Z"
    }
   },
   "outputs": [
    {
     "data": {
      "text/plain": [
       "PassengerId    float64\n",
       "Survived       float64\n",
       "Pclass         float64\n",
       "Name           float64\n",
       "Sex            float64\n",
       "Age            float64\n",
       "SibSp          float64\n",
       "Parch          float64\n",
       "Ticket         float64\n",
       "Fare           float64\n",
       "Cabin          float64\n",
       "Embarked       float64\n",
       "dtype: object"
      ]
     },
     "execution_count": 30,
     "metadata": {},
     "output_type": "execute_result"
    }
   ],
   "source": [
    "titanic.dtypes"
   ]
  },
  {
   "cell_type": "markdown",
   "id": "df039ebf",
   "metadata": {},
   "source": [
    "Now, is filtering data with distribution based on survived person, selecting which is for training dataset"
   ]
  },
  {
   "cell_type": "code",
   "execution_count": 31,
   "id": "2dd6d5af",
   "metadata": {
    "ExecuteTime": {
     "end_time": "2021-08-08T13:18:25.154179Z",
     "start_time": "2021-08-08T13:18:24.806398Z"
    }
   },
   "outputs": [
    {
     "data": {
      "text/plain": [
       "<matplotlib.legend.Legend at 0x1c5b6f6e2b0>"
      ]
     },
     "execution_count": 31,
     "metadata": {},
     "output_type": "execute_result"
    },
    {
     "data": {
      "image/png": "[encoded data removed]",
      "text/plain": [
       "<Figure size 432x288 with 1 Axes>"
      ]
     },
     "metadata": {
      "needs_background": "light"
     },
     "output_type": "display_data"
    }
   ],
   "source": [
    "# How many survived based on Pclass\n",
    "plt.figure()\n",
    "sns.distplot(titanic['Pclass'][titanic['Survived'] == 0])\n",
    "sns.distplot(titanic['Pclass'][titanic['Survived'] == 1])\n",
    "plt.legend(['Not Survived', 'Survived'])\n",
    "\n",
    "# I think Pclass is required as a feature on the dataset, so Pclass shouldn't we drop for training dataset"
   ]
  },
  {
   "cell_type": "code",
   "execution_count": 32,
   "id": "17597379",
   "metadata": {
    "ExecuteTime": {
     "end_time": "2021-08-08T13:18:25.508398Z",
     "start_time": "2021-08-08T13:18:25.154179Z"
    }
   },
   "outputs": [
    {
     "data": {
      "text/plain": [
       "<matplotlib.legend.Legend at 0x1c5b6faca90>"
      ]
     },
     "execution_count": 32,
     "metadata": {},
     "output_type": "execute_result"
    },
    {
     "data": {
      "image/png": "[encoded data removed]",
      "text/plain": [
       "<Figure size 432x288 with 1 Axes>"
      ]
     },
     "metadata": {
      "needs_background": "light"
     },
     "output_type": "display_data"
    }
   ],
   "source": [
    "# How many survived based on PassengerId\n",
    "plt.figure()\n",
    "sns.distplot(titanic['PassengerId'][titanic['Survived'] == 0])\n",
    "sns.distplot(titanic['PassengerId'][titanic['Survived'] == 1])\n",
    "plt.legend(['Not Survived', 'Survived'])\n",
    "\n",
    "# I think PassengerId is not required as a feature on the dataset, \n",
    "# so PassengerId should we drop for training dataset"
   ]
  },
  {
   "cell_type": "code",
   "execution_count": 33,
   "id": "b88671f1",
   "metadata": {
    "ExecuteTime": {
     "end_time": "2021-08-08T13:18:25.887454Z",
     "start_time": "2021-08-08T13:18:25.508398Z"
    }
   },
   "outputs": [
    {
     "data": {
      "text/plain": [
       "<matplotlib.legend.Legend at 0x1c5b7094280>"
      ]
     },
     "execution_count": 33,
     "metadata": {},
     "output_type": "execute_result"
    },
    {
     "data": {
      "image/png": "[encoded data removed]",
      "text/plain": [
       "<Figure size 432x288 with 1 Axes>"
      ]
     },
     "metadata": {
      "needs_background": "light"
     },
     "output_type": "display_data"
    }
   ],
   "source": [
    "# How many survived based on SibSp\n",
    "plt.figure()\n",
    "sns.distplot(titanic['SibSp'][titanic['Survived'] == 0])\n",
    "sns.distplot(titanic['SibSp'][titanic['Survived'] == 1])\n",
    "plt.legend(['Not Survived', 'Survived'])\n",
    "\n",
    "# I think SibSp is required as a feature on the dataset, so SibSp shouldn't we drop for training dataset"
   ]
  },
  {
   "cell_type": "code",
   "execution_count": 34,
   "id": "2db0cf65",
   "metadata": {
    "ExecuteTime": {
     "end_time": "2021-08-08T13:18:26.410553Z",
     "start_time": "2021-08-08T13:18:25.887454Z"
    }
   },
   "outputs": [
    {
     "data": {
      "text/plain": [
       "<matplotlib.legend.Legend at 0x1c5b71667f0>"
      ]
     },
     "execution_count": 34,
     "metadata": {},
     "output_type": "execute_result"
    },
    {
     "data": {
      "image/png": "[encoded data removed]",
      "text/plain": [
       "<Figure size 432x288 with 1 Axes>"
      ]
     },
     "metadata": {
      "needs_background": "light"
     },
     "output_type": "display_data"
    }
   ],
   "source": [
    "# How many survived based on Parch\n",
    "plt.figure()\n",
    "sns.distplot(titanic['Parch'][titanic['Survived'] == 0])\n",
    "sns.distplot(titanic['Parch'][titanic['Survived'] == 1])\n",
    "plt.legend(['Not Survived', 'Survived'])\n",
    "\n",
    "# I think Parch is required as a feature on the dataset, so Parch shouldn't we drop for training dataset"
   ]
  },
  {
   "cell_type": "code",
   "execution_count": 35,
   "id": "bc901370",
   "metadata": {
    "ExecuteTime": {
     "end_time": "2021-08-08T13:18:26.789492Z",
     "start_time": "2021-08-08T13:18:26.410553Z"
    }
   },
   "outputs": [
    {
     "data": {
      "text/plain": [
       "<matplotlib.legend.Legend at 0x1c5b4a215e0>"
      ]
     },
     "execution_count": 35,
     "metadata": {},
     "output_type": "execute_result"
    },
    {
     "data": {
      "image/png": "[encoded data removed]",
      "text/plain": [
       "<Figure size 432x288 with 1 Axes>"
      ]
     },
     "metadata": {
      "needs_background": "light"
     },
     "output_type": "display_data"
    }
   ],
   "source": [
    "# How many survived based on Ticket\n",
    "plt.figure()\n",
    "sns.distplot(titanic['Ticket'][titanic['Survived'] == 0])\n",
    "sns.distplot(titanic['Ticket'][titanic['Survived'] == 1])\n",
    "plt.legend(['Not Survived', 'Survived'])\n",
    "\n",
    "# I think Ticket is not required as a feature on the dataset, \n",
    "# so Ticket should we drop for training dataset"
   ]
  },
  {
   "cell_type": "code",
   "execution_count": 36,
   "id": "3ce106f6",
   "metadata": {
    "ExecuteTime": {
     "end_time": "2021-08-08T13:18:27.128169Z",
     "start_time": "2021-08-08T13:18:26.789492Z"
    }
   },
   "outputs": [
    {
     "data": {
      "text/plain": [
       "<matplotlib.legend.Legend at 0x1c5b6c80df0>"
      ]
     },
     "execution_count": 36,
     "metadata": {},
     "output_type": "execute_result"
    },
    {
     "data": {
      "image/png": "[encoded data removed]",
      "text/plain": [
       "<Figure size 432x288 with 1 Axes>"
      ]
     },
     "metadata": {
      "needs_background": "light"
     },
     "output_type": "display_data"
    }
   ],
   "source": [
    "# How many survived based on Name\n",
    "plt.figure()\n",
    "sns.distplot(titanic['Name'][titanic['Survived'] == 0])\n",
    "sns.distplot(titanic['Name'][titanic['Survived'] == 1])\n",
    "plt.legend(['Not Survived', 'Survived'])\n",
    "\n",
    "# I think Name is not required as a feature on the dataset, \n",
    "# so Ticket should we drop for training dataset"
   ]
  },
  {
   "cell_type": "code",
   "execution_count": 37,
   "id": "ecae2c5e",
   "metadata": {
    "ExecuteTime": {
     "end_time": "2021-08-08T13:18:27.613909Z",
     "start_time": "2021-08-08T13:18:27.128169Z"
    }
   },
   "outputs": [
    {
     "data": {
      "text/plain": [
       "<matplotlib.legend.Legend at 0x1c5b4a65a90>"
      ]
     },
     "execution_count": 37,
     "metadata": {},
     "output_type": "execute_result"
    },
    {
     "data": {
      "image/png": "[encoded data removed]",
      "text/plain": [
       "<Figure size 432x288 with 1 Axes>"
      ]
     },
     "metadata": {
      "needs_background": "light"
     },
     "output_type": "display_data"
    }
   ],
   "source": [
    "# How many survived based on Fare\n",
    "plt.figure()\n",
    "sns.distplot(titanic['Fare'][titanic['Survived'] == 0])\n",
    "sns.distplot(titanic['Fare'][titanic['Survived'] == 1])\n",
    "plt.legend(['Not Survived', 'Survived'])\n",
    "\n",
    "# I think Fare is not required as a feature on the dataset, \n",
    "# so Ticket should we drop for training dataset"
   ]
  },
  {
   "cell_type": "code",
   "execution_count": 38,
   "id": "447102ad",
   "metadata": {
    "ExecuteTime": {
     "end_time": "2021-08-08T13:18:27.961599Z",
     "start_time": "2021-08-08T13:18:27.613909Z"
    }
   },
   "outputs": [
    {
     "data": {
      "text/plain": [
       "<matplotlib.legend.Legend at 0x1c5b6c7f4c0>"
      ]
     },
     "execution_count": 38,
     "metadata": {},
     "output_type": "execute_result"
    },
    {
     "data": {
      "image/png": "[encoded data removed]",
      "text/plain": [
       "<Figure size 432x288 with 1 Axes>"
      ]
     },
     "metadata": {
      "needs_background": "light"
     },
     "output_type": "display_data"
    }
   ],
   "source": [
    "# How many survived based on Embarked\n",
    "plt.figure()\n",
    "sns.distplot(titanic['Embarked'][titanic['Survived'] == 0])\n",
    "sns.distplot(titanic['Embarked'][titanic['Survived'] == 1])\n",
    "plt.legend(['Not Survived', 'Survived'])\n",
    "\n",
    "# I think Embarked is required as a feature on the dataset, so Parch shouldn't we drop for training dataset"
   ]
  },
  {
   "cell_type": "code",
   "execution_count": 39,
   "id": "412af3ea",
   "metadata": {
    "ExecuteTime": {
     "end_time": "2021-08-08T13:18:28.378279Z",
     "start_time": "2021-08-08T13:18:27.961599Z"
    }
   },
   "outputs": [
    {
     "data": {
      "text/plain": [
       "<matplotlib.legend.Legend at 0x1c5b4b48c10>"
      ]
     },
     "execution_count": 39,
     "metadata": {},
     "output_type": "execute_result"
    },
    {
     "data": {
      "image/png": "[encoded data removed]",
      "text/plain": [
       "<Figure size 432x288 with 1 Axes>"
      ]
     },
     "metadata": {
      "needs_background": "light"
     },
     "output_type": "display_data"
    }
   ],
   "source": [
    "# How many survived based on Sex\n",
    "plt.figure()\n",
    "sns.distplot(titanic['Sex'][titanic['Survived'] == 0])\n",
    "sns.distplot(titanic['Sex'][titanic['Survived'] == 1])\n",
    "plt.legend(['Not Survived', 'Survived'])\n",
    "\n",
    "# I think Sex is required as a feature on the dataset, so Parch shouldn't we drop for training dataset"
   ]
  },
  {
   "cell_type": "code",
   "execution_count": 40,
   "id": "0f6bedff",
   "metadata": {
    "ExecuteTime": {
     "end_time": "2021-08-08T13:18:28.795054Z",
     "start_time": "2021-08-08T13:18:28.378279Z"
    }
   },
   "outputs": [
    {
     "data": {
      "text/plain": [
       "<matplotlib.legend.Legend at 0x1c5b6ebed00>"
      ]
     },
     "execution_count": 40,
     "metadata": {},
     "output_type": "execute_result"
    },
    {
     "data": {
      "image/png": "[encoded data removed]",
      "text/plain": [
       "<Figure size 432x288 with 1 Axes>"
      ]
     },
     "metadata": {
      "needs_background": "light"
     },
     "output_type": "display_data"
    }
   ],
   "source": [
    "# How many survived based on Age\n",
    "plt.figure()\n",
    "sns.distplot(titanic['Age'][titanic['Survived'] == 0])\n",
    "sns.distplot(titanic['Age'][titanic['Survived'] == 1])\n",
    "plt.legend(['Not Survived', 'Survived'])\n",
    "\n",
    "# I think Age is required as a feature on the dataset, so Parch shouldn't we drop for training dataset"
   ]
  },
  {
   "cell_type": "markdown",
   "id": "6f6b1fe4",
   "metadata": {},
   "source": [
    "In conclusion, we should drop `'PassengerId', 'Ticket', 'Name', 'Fare'`"
   ]
  },
  {
   "cell_type": "code",
   "execution_count": 41,
   "id": "dc8ef616",
   "metadata": {
    "ExecuteTime": {
     "end_time": "2021-08-08T13:18:28.817233Z",
     "start_time": "2021-08-08T13:18:28.795054Z"
    }
   },
   "outputs": [],
   "source": [
    "# Splitting PassengerId from dataframe\n",
    "passenger_id = titanic['PassengerId']\n",
    "passenger_id_test = titanic_test['PassengerId']\n",
    "\n",
    "# Drop non required columns from dataframe\n",
    "titanic = titanic.drop(['Ticket', 'Fare' ,'Name','PassengerId'], axis=1)\n",
    "titanic_test = titanic_test.drop(['Ticket', 'Fare' ,'Name','PassengerId'], axis=1)"
   ]
  },
  {
   "cell_type": "code",
   "execution_count": 42,
   "id": "305baf7c",
   "metadata": {
    "ExecuteTime": {
     "end_time": "2021-08-08T13:18:28.864068Z",
     "start_time": "2021-08-08T13:18:28.817233Z"
    }
   },
   "outputs": [
    {
     "data": {
      "text/html": [
       "<div>\n",
       "<style scoped>\n",
       "    .dataframe tbody tr th:only-of-type {\n",
       "        vertical-align: middle;\n",
       "    }\n",
       "\n",
       "    .dataframe tbody tr th {\n",
       "        vertical-align: top;\n",
       "    }\n",
       "\n",
       "    .dataframe thead th {\n",
       "        text-align: right;\n",
       "    }\n",
       "</style>\n",
       "<table border=\"1\" class=\"dataframe\">\n",
       "  <thead>\n",
       "    <tr style=\"text-align: right;\">\n",
       "      <th></th>\n",
       "      <th>Survived</th>\n",
       "      <th>Pclass</th>\n",
       "      <th>Sex</th>\n",
       "      <th>Age</th>\n",
       "      <th>SibSp</th>\n",
       "      <th>Parch</th>\n",
       "      <th>Cabin</th>\n",
       "      <th>Embarked</th>\n",
       "    </tr>\n",
       "  </thead>\n",
       "  <tbody>\n",
       "    <tr>\n",
       "      <th>0</th>\n",
       "      <td>0.0</td>\n",
       "      <td>3.0</td>\n",
       "      <td>0.0</td>\n",
       "      <td>22.0</td>\n",
       "      <td>1.0</td>\n",
       "      <td>0.0</td>\n",
       "      <td>0.0</td>\n",
       "      <td>0.0</td>\n",
       "    </tr>\n",
       "    <tr>\n",
       "      <th>1</th>\n",
       "      <td>1.0</td>\n",
       "      <td>1.0</td>\n",
       "      <td>1.0</td>\n",
       "      <td>38.0</td>\n",
       "      <td>1.0</td>\n",
       "      <td>0.0</td>\n",
       "      <td>1.0</td>\n",
       "      <td>1.0</td>\n",
       "    </tr>\n",
       "    <tr>\n",
       "      <th>2</th>\n",
       "      <td>1.0</td>\n",
       "      <td>3.0</td>\n",
       "      <td>1.0</td>\n",
       "      <td>26.0</td>\n",
       "      <td>0.0</td>\n",
       "      <td>0.0</td>\n",
       "      <td>0.0</td>\n",
       "      <td>0.0</td>\n",
       "    </tr>\n",
       "    <tr>\n",
       "      <th>3</th>\n",
       "      <td>1.0</td>\n",
       "      <td>1.0</td>\n",
       "      <td>1.0</td>\n",
       "      <td>35.0</td>\n",
       "      <td>1.0</td>\n",
       "      <td>0.0</td>\n",
       "      <td>1.0</td>\n",
       "      <td>0.0</td>\n",
       "    </tr>\n",
       "    <tr>\n",
       "      <th>4</th>\n",
       "      <td>0.0</td>\n",
       "      <td>3.0</td>\n",
       "      <td>0.0</td>\n",
       "      <td>35.0</td>\n",
       "      <td>0.0</td>\n",
       "      <td>0.0</td>\n",
       "      <td>0.0</td>\n",
       "      <td>0.0</td>\n",
       "    </tr>\n",
       "  </tbody>\n",
       "</table>\n",
       "</div>"
      ],
      "text/plain": [
       "   Survived  Pclass  Sex   Age  SibSp  Parch  Cabin  Embarked\n",
       "0       0.0     3.0  0.0  22.0    1.0    0.0    0.0       0.0\n",
       "1       1.0     1.0  1.0  38.0    1.0    0.0    1.0       1.0\n",
       "2       1.0     3.0  1.0  26.0    0.0    0.0    0.0       0.0\n",
       "3       1.0     1.0  1.0  35.0    1.0    0.0    1.0       0.0\n",
       "4       0.0     3.0  0.0  35.0    0.0    0.0    0.0       0.0"
      ]
     },
     "execution_count": 42,
     "metadata": {},
     "output_type": "execute_result"
    }
   ],
   "source": [
    "titanic.head(5)"
   ]
  },
  {
   "cell_type": "markdown",
   "id": "b1543ea5",
   "metadata": {},
   "source": [
    "## Detecting outlier"
   ]
  },
  {
   "cell_type": "markdown",
   "id": "b70f0a51",
   "metadata": {},
   "source": [
    "See data distribution (again)"
   ]
  },
  {
   "cell_type": "code",
   "execution_count": 43,
   "id": "b97b3591",
   "metadata": {
    "ExecuteTime": {
     "end_time": "2021-08-08T13:18:28.879688Z",
     "start_time": "2021-08-08T13:18:28.864068Z"
    }
   },
   "outputs": [
    {
     "data": {
      "text/plain": [
       "Index(['Survived', 'Pclass', 'Sex', 'Age', 'SibSp', 'Parch', 'Cabin',\n",
       "       'Embarked'],\n",
       "      dtype='object')"
      ]
     },
     "execution_count": 43,
     "metadata": {},
     "output_type": "execute_result"
    }
   ],
   "source": [
    "titanic.columns"
   ]
  },
  {
   "cell_type": "code",
   "execution_count": 44,
   "id": "c21b0be3",
   "metadata": {
    "ExecuteTime": {
     "end_time": "2021-08-08T13:18:28.895311Z",
     "start_time": "2021-08-08T13:18:28.879688Z"
    }
   },
   "outputs": [],
   "source": [
    "# removing outliers with Z-score\n",
    "from scipy import stats\n",
    "titanic_outliers = titanic[(np.abs(stats.zscore(titanic)) < 3).all(axis=1)]"
   ]
  },
  {
   "cell_type": "code",
   "execution_count": 45,
   "id": "86181e1c",
   "metadata": {
    "ExecuteTime": {
     "end_time": "2021-08-08T13:18:28.917456Z",
     "start_time": "2021-08-08T13:18:28.895311Z"
    }
   },
   "outputs": [
    {
     "data": {
      "text/plain": [
       "(806, 8)"
      ]
     },
     "execution_count": 45,
     "metadata": {},
     "output_type": "execute_result"
    }
   ],
   "source": [
    "titanic_outliers.shape"
   ]
  },
  {
   "cell_type": "code",
   "execution_count": 46,
   "id": "381fe444",
   "metadata": {
    "ExecuteTime": {
     "end_time": "2021-08-08T13:18:29.249453Z",
     "start_time": "2021-08-08T13:18:28.917456Z"
    }
   },
   "outputs": [
    {
     "data": {
      "image/png": "[encoded data removed]",
      "text/plain": [
       "<Figure size 1080x288 with 2 Axes>"
      ]
     },
     "metadata": {
      "needs_background": "light"
     },
     "output_type": "display_data"
    }
   ],
   "source": [
    "plt.figure(figsize=(15,4))\n",
    "plt.subplot(1,2,1)\n",
    "sns.boxplot(titanic['Pclass'])\n",
    "plt.title('Before removing outlier')\n",
    "\n",
    "plt.subplot(1,2,2)\n",
    "sns.boxplot(titanic_outliers['Pclass'])\n",
    "_ = plt.title('After removing outlier')"
   ]
  },
  {
   "cell_type": "code",
   "execution_count": 47,
   "id": "c94696af",
   "metadata": {
    "ExecuteTime": {
     "end_time": "2021-08-08T13:18:29.534689Z",
     "start_time": "2021-08-08T13:18:29.249453Z"
    }
   },
   "outputs": [
    {
     "data": {
      "image/png": "[encoded data removed]",
      "text/plain": [
       "<Figure size 1080x288 with 2 Axes>"
      ]
     },
     "metadata": {
      "needs_background": "light"
     },
     "output_type": "display_data"
    }
   ],
   "source": [
    "plt.figure(figsize=(15,4))\n",
    "plt.subplot(1,2,1)\n",
    "sns.boxplot(titanic['Age'])\n",
    "plt.title('Before removing outlier')\n",
    "\n",
    "plt.subplot(1,2,2)\n",
    "sns.boxplot(titanic_outliers['Age'])\n",
    "_ = plt.title('After removing outlier')"
   ]
  },
  {
   "cell_type": "code",
   "execution_count": 48,
   "id": "77538e15",
   "metadata": {
    "ExecuteTime": {
     "end_time": "2021-08-08T13:18:29.819912Z",
     "start_time": "2021-08-08T13:18:29.534689Z"
    }
   },
   "outputs": [
    {
     "data": {
      "image/png": "[encoded data removed]",
      "text/plain": [
       "<Figure size 1080x288 with 2 Axes>"
      ]
     },
     "metadata": {
      "needs_background": "light"
     },
     "output_type": "display_data"
    }
   ],
   "source": [
    "plt.figure(figsize=(15,4))\n",
    "plt.subplot(1,2,1)\n",
    "sns.boxplot(titanic['SibSp'])\n",
    "plt.title('Before removing outlier')\n",
    "\n",
    "plt.subplot(1,2,2)\n",
    "sns.boxplot(titanic_outliers['SibSp'])\n",
    "_ = plt.title('After removing outlier')"
   ]
  },
  {
   "cell_type": "code",
   "execution_count": 49,
   "id": "26084bfb",
   "metadata": {
    "ExecuteTime": {
     "end_time": "2021-08-08T13:18:30.198986Z",
     "start_time": "2021-08-08T13:18:29.819912Z"
    }
   },
   "outputs": [
    {
     "data": {
      "image/png": "[encoded data removed]",
      "text/plain": [
       "<Figure size 1080x288 with 2 Axes>"
      ]
     },
     "metadata": {
      "needs_background": "light"
     },
     "output_type": "display_data"
    }
   ],
   "source": [
    "plt.figure(figsize=(15,4))\n",
    "plt.subplot(1,2,1)\n",
    "sns.boxplot(titanic['Parch'])\n",
    "plt.title('Before removing outlier')\n",
    "\n",
    "plt.subplot(1,2,2)\n",
    "sns.boxplot(titanic_outliers['Parch'])\n",
    "_ = plt.title('After removing outlier')"
   ]
  },
  {
   "cell_type": "code",
   "execution_count": 50,
   "id": "93b169ef",
   "metadata": {
    "ExecuteTime": {
     "end_time": "2021-08-08T13:18:30.521948Z",
     "start_time": "2021-08-08T13:18:30.198986Z"
    }
   },
   "outputs": [
    {
     "data": {
      "image/png": "[encoded data removed]",
      "text/plain": [
       "<Figure size 1080x288 with 2 Axes>"
      ]
     },
     "metadata": {
      "needs_background": "light"
     },
     "output_type": "display_data"
    }
   ],
   "source": [
    "plt.figure(figsize=(15,4))\n",
    "plt.subplot(1,2,1)\n",
    "sns.boxplot(titanic['Cabin'])\n",
    "plt.title('Before removing outlier')\n",
    "\n",
    "plt.subplot(1,2,2)\n",
    "sns.boxplot(titanic_outliers['Cabin'])\n",
    "_ = plt.title('After removing outlier')"
   ]
  },
  {
   "cell_type": "code",
   "execution_count": 51,
   "id": "d8029b94",
   "metadata": {
    "ExecuteTime": {
     "end_time": "2021-08-08T13:18:30.822824Z",
     "start_time": "2021-08-08T13:18:30.521948Z"
    }
   },
   "outputs": [
    {
     "data": {
      "image/png": "[encoded data removed]",
      "text/plain": [
       "<Figure size 1080x288 with 2 Axes>"
      ]
     },
     "metadata": {
      "needs_background": "light"
     },
     "output_type": "display_data"
    }
   ],
   "source": [
    "plt.figure(figsize=(15,4))\n",
    "plt.subplot(1,2,1)\n",
    "sns.boxplot(titanic['Embarked'])\n",
    "plt.title('Before removing outlier')\n",
    "\n",
    "plt.subplot(1,2,2)\n",
    "sns.boxplot(titanic_outliers['Embarked'])\n",
    "_ = plt.title('After removing outlier')"
   ]
  },
  {
   "cell_type": "code",
   "execution_count": 52,
   "id": "caf5fe41",
   "metadata": {
    "ExecuteTime": {
     "end_time": "2021-08-08T13:18:31.239594Z",
     "start_time": "2021-08-08T13:18:30.822824Z"
    },
    "scrolled": true
   },
   "outputs": [
    {
     "data": {
      "image/png": "[encoded data removed]",
      "text/plain": [
       "<Figure size 432x288 with 2 Axes>"
      ]
     },
     "metadata": {
      "needs_background": "light"
     },
     "output_type": "display_data"
    }
   ],
   "source": [
    "_ = sns.heatmap(titanic_outliers.corr())"
   ]
  },
  {
   "cell_type": "markdown",
   "id": "ee3608d9",
   "metadata": {},
   "source": [
    "# Let's Train"
   ]
  },
  {
   "cell_type": "code",
   "execution_count": 53,
   "id": "b37b432b",
   "metadata": {
    "ExecuteTime": {
     "end_time": "2021-08-08T13:18:31.455742Z",
     "start_time": "2021-08-08T13:18:31.239594Z"
    }
   },
   "outputs": [
    {
     "name": "stdout",
     "output_type": "stream",
     "text": [
      "0.0    490\n",
      "1.0    316\n",
      "Name: Survived, dtype: int64\n"
     ]
    },
    {
     "data": {
      "image/png": "[encoded data removed]",
      "text/plain": [
       "<Figure size 432x288 with 1 Axes>"
      ]
     },
     "metadata": {
      "needs_background": "light"
     },
     "output_type": "display_data"
    }
   ],
   "source": [
    "titanic_outliers['Survived'].value_counts().plot(kind='bar')\n",
    "print(titanic_outliers['Survived'].value_counts())"
   ]
  },
  {
   "cell_type": "code",
   "execution_count": 54,
   "id": "55f691b0",
   "metadata": {
    "ExecuteTime": {
     "end_time": "2021-08-08T13:18:32.204664Z",
     "start_time": "2021-08-08T13:18:31.455742Z"
    }
   },
   "outputs": [],
   "source": [
    "# resample to make data balance\n",
    "from sklearn.utils import resample\n",
    "def resampling_dataset(df):\n",
    "    df0 = df[df['Survived']==0]\n",
    "    df1 = df[df['Survived']==1]\n",
    "    df_resample = resample(df1, replace=True, \n",
    "                            n_samples=df['Survived'].value_counts()[0], random_state=123)\n",
    "    df = pd.concat([df0, df_resample])\n",
    "    return df\n",
    "titanic_resampled = resampling_dataset(titanic_outliers)"
   ]
  },
  {
   "cell_type": "code",
   "execution_count": 55,
   "id": "faa37b3b",
   "metadata": {
    "ExecuteTime": {
     "end_time": "2021-08-08T13:18:32.226404Z",
     "start_time": "2021-08-08T13:18:32.204664Z"
    }
   },
   "outputs": [],
   "source": [
    "X = titanic_resampled.drop(['Survived'], axis=1)\n",
    "y = titanic_resampled['Survived']"
   ]
  },
  {
   "cell_type": "code",
   "execution_count": 56,
   "id": "366fb1ee",
   "metadata": {
    "ExecuteTime": {
     "end_time": "2021-08-08T13:18:32.373497Z",
     "start_time": "2021-08-08T13:18:32.226404Z"
    }
   },
   "outputs": [
    {
     "name": "stdout",
     "output_type": "stream",
     "text": [
      "0.0    490\n",
      "1.0    490\n",
      "Name: Survived, dtype: int64\n"
     ]
    },
    {
     "data": {
      "image/png": "[encoded data removed]",
      "text/plain": [
       "<Figure size 432x288 with 1 Axes>"
      ]
     },
     "metadata": {
      "needs_background": "light"
     },
     "output_type": "display_data"
    }
   ],
   "source": [
    "titanic_resampled['Survived'].value_counts().plot(kind='bar')\n",
    "print(titanic_resampled['Survived'].value_counts())"
   ]
  },
  {
   "cell_type": "code",
   "execution_count": 57,
   "id": "9368ddae",
   "metadata": {
    "ExecuteTime": {
     "end_time": "2021-08-08T13:18:32.389109Z",
     "start_time": "2021-08-08T13:18:32.373497Z"
    }
   },
   "outputs": [],
   "source": [
    "# convert y to array\n",
    "y = np.array(y)"
   ]
  },
  {
   "cell_type": "code",
   "execution_count": 58,
   "id": "66464f57",
   "metadata": {
    "ExecuteTime": {
     "end_time": "2021-08-08T13:18:32.444283Z",
     "start_time": "2021-08-08T13:18:32.389109Z"
    }
   },
   "outputs": [
    {
     "data": {
      "text/html": [
       "<div>\n",
       "<style scoped>\n",
       "    .dataframe tbody tr th:only-of-type {\n",
       "        vertical-align: middle;\n",
       "    }\n",
       "\n",
       "    .dataframe tbody tr th {\n",
       "        vertical-align: top;\n",
       "    }\n",
       "\n",
       "    .dataframe thead th {\n",
       "        text-align: right;\n",
       "    }\n",
       "</style>\n",
       "<table border=\"1\" class=\"dataframe\">\n",
       "  <thead>\n",
       "    <tr style=\"text-align: right;\">\n",
       "      <th></th>\n",
       "      <th>Pclass</th>\n",
       "      <th>Sex</th>\n",
       "      <th>Age</th>\n",
       "      <th>SibSp</th>\n",
       "      <th>Parch</th>\n",
       "      <th>Cabin</th>\n",
       "      <th>Embarked</th>\n",
       "    </tr>\n",
       "  </thead>\n",
       "  <tbody>\n",
       "    <tr>\n",
       "      <th>count</th>\n",
       "      <td>980.000000</td>\n",
       "      <td>980.000000</td>\n",
       "      <td>980.000000</td>\n",
       "      <td>980.000000</td>\n",
       "      <td>980.000000</td>\n",
       "      <td>980.000000</td>\n",
       "      <td>980.000000</td>\n",
       "    </tr>\n",
       "    <tr>\n",
       "      <th>mean</th>\n",
       "      <td>2.261224</td>\n",
       "      <td>0.413265</td>\n",
       "      <td>29.218976</td>\n",
       "      <td>0.387755</td>\n",
       "      <td>0.298980</td>\n",
       "      <td>0.523469</td>\n",
       "      <td>0.400000</td>\n",
       "    </tr>\n",
       "    <tr>\n",
       "      <th>std</th>\n",
       "      <td>0.841424</td>\n",
       "      <td>0.492671</td>\n",
       "      <td>12.454012</td>\n",
       "      <td>0.638126</td>\n",
       "      <td>0.602513</td>\n",
       "      <td>1.112865</td>\n",
       "      <td>0.649664</td>\n",
       "    </tr>\n",
       "    <tr>\n",
       "      <th>min</th>\n",
       "      <td>1.000000</td>\n",
       "      <td>0.000000</td>\n",
       "      <td>0.420000</td>\n",
       "      <td>0.000000</td>\n",
       "      <td>0.000000</td>\n",
       "      <td>0.000000</td>\n",
       "      <td>0.000000</td>\n",
       "    </tr>\n",
       "    <tr>\n",
       "      <th>25%</th>\n",
       "      <td>1.000000</td>\n",
       "      <td>0.000000</td>\n",
       "      <td>22.000000</td>\n",
       "      <td>0.000000</td>\n",
       "      <td>0.000000</td>\n",
       "      <td>0.000000</td>\n",
       "      <td>0.000000</td>\n",
       "    </tr>\n",
       "    <tr>\n",
       "      <th>50%</th>\n",
       "      <td>3.000000</td>\n",
       "      <td>0.000000</td>\n",
       "      <td>29.699118</td>\n",
       "      <td>0.000000</td>\n",
       "      <td>0.000000</td>\n",
       "      <td>0.000000</td>\n",
       "      <td>0.000000</td>\n",
       "    </tr>\n",
       "    <tr>\n",
       "      <th>75%</th>\n",
       "      <td>3.000000</td>\n",
       "      <td>1.000000</td>\n",
       "      <td>35.000000</td>\n",
       "      <td>1.000000</td>\n",
       "      <td>0.000000</td>\n",
       "      <td>0.000000</td>\n",
       "      <td>1.000000</td>\n",
       "    </tr>\n",
       "    <tr>\n",
       "      <th>max</th>\n",
       "      <td>3.000000</td>\n",
       "      <td>1.000000</td>\n",
       "      <td>66.000000</td>\n",
       "      <td>3.000000</td>\n",
       "      <td>2.000000</td>\n",
       "      <td>4.000000</td>\n",
       "      <td>2.000000</td>\n",
       "    </tr>\n",
       "  </tbody>\n",
       "</table>\n",
       "</div>"
      ],
      "text/plain": [
       "           Pclass         Sex         Age       SibSp       Parch       Cabin  \\\n",
       "count  980.000000  980.000000  980.000000  980.000000  980.000000  980.000000   \n",
       "mean     2.261224    0.413265   29.218976    0.387755    0.298980    0.523469   \n",
       "std      0.841424    0.492671   12.454012    0.638126    0.602513    1.112865   \n",
       "min      1.000000    0.000000    0.420000    0.000000    0.000000    0.000000   \n",
       "25%      1.000000    0.000000   22.000000    0.000000    0.000000    0.000000   \n",
       "50%      3.000000    0.000000   29.699118    0.000000    0.000000    0.000000   \n",
       "75%      3.000000    1.000000   35.000000    1.000000    0.000000    0.000000   \n",
       "max      3.000000    1.000000   66.000000    3.000000    2.000000    4.000000   \n",
       "\n",
       "         Embarked  \n",
       "count  980.000000  \n",
       "mean     0.400000  \n",
       "std      0.649664  \n",
       "min      0.000000  \n",
       "25%      0.000000  \n",
       "50%      0.000000  \n",
       "75%      1.000000  \n",
       "max      2.000000  "
      ]
     },
     "execution_count": 58,
     "metadata": {},
     "output_type": "execute_result"
    }
   ],
   "source": [
    "# before normalizing\n",
    "X.describe()"
   ]
  },
  {
   "cell_type": "code",
   "execution_count": 59,
   "id": "e24d4936",
   "metadata": {
    "ExecuteTime": {
     "end_time": "2021-08-08T13:18:32.491143Z",
     "start_time": "2021-08-08T13:18:32.444283Z"
    }
   },
   "outputs": [],
   "source": [
    "# lets normalize the dataset using StandarScaler\n",
    "from sklearn.preprocessing import StandardScaler,MinMaxScaler\n",
    "scale = MinMaxScaler()\n",
    "X = scale.fit_transform(X) # convert it to array then normalizing"
   ]
  },
  {
   "cell_type": "code",
   "execution_count": 60,
   "id": "5950a253",
   "metadata": {
    "ExecuteTime": {
     "end_time": "2021-08-08T13:18:32.506761Z",
     "start_time": "2021-08-08T13:18:32.491143Z"
    }
   },
   "outputs": [
    {
     "data": {
      "text/plain": [
       "(980, 7)"
      ]
     },
     "execution_count": 60,
     "metadata": {},
     "output_type": "execute_result"
    }
   ],
   "source": [
    "# after normalizing\n",
    "X.shape"
   ]
  },
  {
   "cell_type": "code",
   "execution_count": 61,
   "id": "7eb4602d",
   "metadata": {
    "ExecuteTime": {
     "end_time": "2021-08-08T13:18:32.526911Z",
     "start_time": "2021-08-08T13:18:32.511273Z"
    }
   },
   "outputs": [
    {
     "data": {
      "text/plain": [
       "array([[1.        , 0.        , 0.32906374, ..., 0.        , 0.        ,\n",
       "        0.        ],\n",
       "       [1.        , 0.        , 0.52729491, ..., 0.        , 0.        ,\n",
       "        0.        ],\n",
       "       [1.        , 0.        , 0.44646413, ..., 0.        , 0.        ,\n",
       "        1.        ],\n",
       "       ...,\n",
       "       [1.        , 1.        , 0.4663007 , ..., 0.5       , 0.        ,\n",
       "        0.        ],\n",
       "       [0.5       , 1.        , 0.25282098, ..., 0.        , 0.        ,\n",
       "        0.5       ],\n",
       "       [0.        , 1.        , 0.58828911, ..., 0.        , 1.        ,\n",
       "        0.        ]])"
      ]
     },
     "execution_count": 61,
     "metadata": {},
     "output_type": "execute_result"
    }
   ],
   "source": [
    "X"
   ]
  },
  {
   "cell_type": "code",
   "execution_count": 62,
   "id": "eeb63fc8",
   "metadata": {
    "ExecuteTime": {
     "end_time": "2021-08-08T13:18:32.589404Z",
     "start_time": "2021-08-08T13:18:32.526911Z"
    }
   },
   "outputs": [],
   "source": [
    "from sklearn.model_selection import train_test_split\n",
    "x_train, x_test, y_train, y_test = train_test_split(X, y, test_size=0.2, random_state=123)"
   ]
  },
  {
   "cell_type": "code",
   "execution_count": 63,
   "id": "25974a83",
   "metadata": {
    "ExecuteTime": {
     "end_time": "2021-08-08T13:18:32.605019Z",
     "start_time": "2021-08-08T13:18:32.589404Z"
    }
   },
   "outputs": [
    {
     "name": "stdout",
     "output_type": "stream",
     "text": [
      "(784, 7) (196, 7) (784,) (196,)\n"
     ]
    }
   ],
   "source": [
    "print(x_train.shape, x_test.shape, y_train.shape, y_test.shape)"
   ]
  },
  {
   "cell_type": "code",
   "execution_count": 64,
   "id": "39584cb5",
   "metadata": {
    "ExecuteTime": {
     "end_time": "2021-08-08T13:18:33.345648Z",
     "start_time": "2021-08-08T13:18:32.605019Z"
    }
   },
   "outputs": [
    {
     "data": {
      "text/html": [
       "<div>\n",
       "<style scoped>\n",
       "    .dataframe tbody tr th:only-of-type {\n",
       "        vertical-align: middle;\n",
       "    }\n",
       "\n",
       "    .dataframe tbody tr th {\n",
       "        vertical-align: top;\n",
       "    }\n",
       "\n",
       "    .dataframe thead th {\n",
       "        text-align: right;\n",
       "    }\n",
       "</style>\n",
       "<table border=\"1\" class=\"dataframe\">\n",
       "  <thead>\n",
       "    <tr style=\"text-align: right;\">\n",
       "      <th></th>\n",
       "      <th>Model</th>\n",
       "      <th>Score</th>\n",
       "    </tr>\n",
       "  </thead>\n",
       "  <tbody>\n",
       "    <tr>\n",
       "      <th>0</th>\n",
       "      <td>Support Vector Machines</td>\n",
       "      <td>89.29%</td>\n",
       "    </tr>\n",
       "    <tr>\n",
       "      <th>1</th>\n",
       "      <td>XGB</td>\n",
       "      <td>88.78%</td>\n",
       "    </tr>\n",
       "    <tr>\n",
       "      <th>2</th>\n",
       "      <td>Nu Support Vector Machines</td>\n",
       "      <td>88.27%</td>\n",
       "    </tr>\n",
       "    <tr>\n",
       "      <th>3</th>\n",
       "      <td>K-Nearest Neighbors</td>\n",
       "      <td>86.73%</td>\n",
       "    </tr>\n",
       "    <tr>\n",
       "      <th>4</th>\n",
       "      <td>Random Forest</td>\n",
       "      <td>86.22%</td>\n",
       "    </tr>\n",
       "    <tr>\n",
       "      <th>5</th>\n",
       "      <td>Gaussian Naive Bayes</td>\n",
       "      <td>85.20%</td>\n",
       "    </tr>\n",
       "    <tr>\n",
       "      <th>6</th>\n",
       "      <td>Stocastic Gradient Descend</td>\n",
       "      <td>85.20%</td>\n",
       "    </tr>\n",
       "    <tr>\n",
       "      <th>7</th>\n",
       "      <td>Nearest Centroid</td>\n",
       "      <td>85.20%</td>\n",
       "    </tr>\n",
       "    <tr>\n",
       "      <th>8</th>\n",
       "      <td>Decision Tree Classifier</td>\n",
       "      <td>84.69%</td>\n",
       "    </tr>\n",
       "    <tr>\n",
       "      <th>9</th>\n",
       "      <td>Ridge</td>\n",
       "      <td>84.69%</td>\n",
       "    </tr>\n",
       "    <tr>\n",
       "      <th>10</th>\n",
       "      <td>AdaBoost</td>\n",
       "      <td>84.69%</td>\n",
       "    </tr>\n",
       "    <tr>\n",
       "      <th>11</th>\n",
       "      <td>Bernoulli Naive Bayes</td>\n",
       "      <td>84.18%</td>\n",
       "    </tr>\n",
       "    <tr>\n",
       "      <th>12</th>\n",
       "      <td>Logistic Regression</td>\n",
       "      <td>83.67%</td>\n",
       "    </tr>\n",
       "    <tr>\n",
       "      <th>13</th>\n",
       "      <td>Perceptron</td>\n",
       "      <td>83.16%</td>\n",
       "    </tr>\n",
       "    <tr>\n",
       "      <th>14</th>\n",
       "      <td>PAC</td>\n",
       "      <td>79.08%</td>\n",
       "    </tr>\n",
       "  </tbody>\n",
       "</table>\n",
       "</div>"
      ],
      "text/plain": [
       "                         Model   Score\n",
       "0      Support Vector Machines  89.29%\n",
       "1                          XGB  88.78%\n",
       "2   Nu Support Vector Machines  88.27%\n",
       "3          K-Nearest Neighbors  86.73%\n",
       "4                Random Forest  86.22%\n",
       "5         Gaussian Naive Bayes  85.20%\n",
       "6   Stocastic Gradient Descend  85.20%\n",
       "7             Nearest Centroid  85.20%\n",
       "8     Decision Tree Classifier  84.69%\n",
       "9                        Ridge  84.69%\n",
       "10                    AdaBoost  84.69%\n",
       "11       Bernoulli Naive Bayes  84.18%\n",
       "12         Logistic Regression  83.67%\n",
       "13                  Perceptron  83.16%\n",
       "14                         PAC  79.08%"
      ]
     },
     "execution_count": 64,
     "metadata": {},
     "output_type": "execute_result"
    }
   ],
   "source": [
    "# adding dataset to model\n",
    "# using Machine Learning method\n",
    "\n",
    "from sklearn.preprocessing import StandardScaler,MinMaxScaler\n",
    "from sklearn.model_selection import train_test_split\n",
    "from sklearn.linear_model import LogisticRegression, RidgeClassifier, SGDClassifier, PassiveAggressiveClassifier, Perceptron\n",
    "from sklearn.svm import SVC,LinearSVC,NuSVC\n",
    "from sklearn.neighbors import KNeighborsClassifier,NearestCentroid\n",
    "from sklearn.tree import DecisionTreeClassifier\n",
    "from sklearn.ensemble import RandomForestClassifier,AdaBoostClassifier,GradientBoostingClassifier,VotingClassifier\n",
    "from sklearn.naive_bayes import GaussianNB,BernoulliNB\n",
    "from sklearn.metrics import precision_score,accuracy_score, confusion_matrix, classification_report\n",
    "from sklearn.model_selection import RandomizedSearchCV,GridSearchCV,RepeatedStratifiedKFold\n",
    "\n",
    "models =[(\"Logistic Regression\", LogisticRegression()),\n",
    "         (\"Support Vector Machines\", SVC()),\n",
    "         ('K-Nearest Neighbors',KNeighborsClassifier()),\n",
    "         (\"Decision Tree Classifier\", DecisionTreeClassifier()),\n",
    "         (\"Gaussian Naive Bayes\", GaussianNB()),\n",
    "         (\"Stocastic Gradient Descend\", SGDClassifier()),\n",
    "         (\"Perceptron\", Perceptron()),\n",
    "         (\"Nearest Centroid\",NearestCentroid()),\n",
    "         (\"Ridge\", RidgeClassifier()),\n",
    "         (\"Nu Support Vector Machines\", NuSVC()),\n",
    "         (\"Bernoulli Naive Bayes\", BernoulliNB()),\n",
    "         ('Random Forest',RandomForestClassifier()),\n",
    "         ('AdaBoost',AdaBoostClassifier()),\n",
    "         ('XGB',GradientBoostingClassifier()),\n",
    "         ('PAC',PassiveAggressiveClassifier())]\n",
    "\n",
    "\n",
    "names = []\n",
    "scores = []\n",
    "results = {}\n",
    "\n",
    "for name,model in models:\n",
    "    \n",
    "    names.append(name)\n",
    "    \n",
    "    model.fit(x_train, y_train)\n",
    "    \n",
    "    result = model.predict(x_test)\n",
    "    score = accuracy_score(y_test, result)*100\n",
    "    scores.append(score)\n",
    "    \n",
    "for key in names:\n",
    "    for value in scores:\n",
    "        results[key] = f'{value:.2f}%'\n",
    "        scores.remove(value)\n",
    "        break\n",
    "\n",
    "results = sorted(results.items(), key=lambda x: x[1], reverse=True)\n",
    "results_df = pd.DataFrame.from_dict(results)\n",
    "results_df = results_df.rename(columns={0: 'Model', 1:'Score'})\n",
    "results_df"
   ]
  },
  {
   "cell_type": "code",
   "execution_count": 65,
   "id": "ae11a5f6",
   "metadata": {
    "ExecuteTime": {
     "end_time": "2021-08-08T13:18:41.793309Z",
     "start_time": "2021-08-08T13:18:33.345648Z"
    }
   },
   "outputs": [
    {
     "name": "stdout",
     "output_type": "stream",
     "text": [
      "Model: \"sequential\"\n",
      "_________________________________________________________________\n",
      "Layer (type)                 Output Shape              Param #   \n",
      "=================================================================\n",
      "dense (Dense)                (None, 16)                128       \n",
      "_________________________________________________________________\n",
      "dense_1 (Dense)              (None, 8)                 136       \n",
      "_________________________________________________________________\n",
      "dense_2 (Dense)              (None, 4)                 36        \n",
      "_________________________________________________________________\n",
      "dense_3 (Dense)              (None, 2)                 10        \n",
      "_________________________________________________________________\n",
      "dense_4 (Dense)              (None, 1)                 3         \n",
      "=================================================================\n",
      "Total params: 313\n",
      "Trainable params: 313\n",
      "Non-trainable params: 0\n",
      "_________________________________________________________________\n",
      "Epoch 1/500\n",
      "20/20 [==============================] - 2s 75ms/step - loss: 0.2440 - mse: 0.2440 - mae: 0.4937 - accuracy: 0.6694 - val_loss: 0.2352 - val_mse: 0.2352 - val_mae: 0.4843 - val_accuracy: 0.7134\n",
      "Epoch 2/500\n",
      "20/20 [==============================] - 0s 4ms/step - loss: 0.2314 - mse: 0.2314 - mae: 0.4801 - accuracy: 0.7333 - val_loss: 0.2244 - val_mse: 0.2244 - val_mae: 0.4719 - val_accuracy: 0.7261\n",
      "Epoch 3/500\n",
      "20/20 [==============================] - 0s 4ms/step - loss: 0.2172 - mse: 0.2172 - mae: 0.4638 - accuracy: 0.7784 - val_loss: 0.2117 - val_mse: 0.2117 - val_mae: 0.4563 - val_accuracy: 0.7452\n",
      "Epoch 4/500\n",
      "20/20 [==============================] - 0s 4ms/step - loss: 0.2055 - mse: 0.2055 - mae: 0.4486 - accuracy: 0.7737 - val_loss: 0.1984 - val_mse: 0.1984 - val_mae: 0.4379 - val_accuracy: 0.7643\n",
      "Epoch 5/500\n",
      "20/20 [==============================] - 0s 4ms/step - loss: 0.1955 - mse: 0.1955 - mae: 0.4328 - accuracy: 0.7542 - val_loss: 0.1858 - val_mse: 0.1858 - val_mae: 0.4178 - val_accuracy: 0.7771\n",
      "Epoch 6/500\n",
      "20/20 [==============================] - 0s 4ms/step - loss: 0.1767 - mse: 0.1767 - mae: 0.4041 - accuracy: 0.7898 - val_loss: 0.1733 - val_mse: 0.1733 - val_mae: 0.3966 - val_accuracy: 0.8089\n",
      "Epoch 7/500\n",
      "20/20 [==============================] - 0s 4ms/step - loss: 0.1696 - mse: 0.1696 - mae: 0.3888 - accuracy: 0.7813 - val_loss: 0.1648 - val_mse: 0.1648 - val_mae: 0.3783 - val_accuracy: 0.8089\n",
      "Epoch 8/500\n",
      "20/20 [==============================] - 0s 4ms/step - loss: 0.1568 - mse: 0.1568 - mae: 0.3639 - accuracy: 0.7914 - val_loss: 0.1579 - val_mse: 0.1579 - val_mae: 0.3620 - val_accuracy: 0.8217\n",
      "Epoch 9/500\n",
      "20/20 [==============================] - 0s 4ms/step - loss: 0.1711 - mse: 0.1711 - mae: 0.3723 - accuracy: 0.7549 - val_loss: 0.1532 - val_mse: 0.1532 - val_mae: 0.3490 - val_accuracy: 0.8217\n",
      "Epoch 10/500\n",
      "20/20 [==============================] - 0s 4ms/step - loss: 0.1616 - mse: 0.1616 - mae: 0.3527 - accuracy: 0.7627 - val_loss: 0.1489 - val_mse: 0.1489 - val_mae: 0.3377 - val_accuracy: 0.8025\n",
      "Epoch 11/500\n",
      "20/20 [==============================] - 0s 4ms/step - loss: 0.1479 - mse: 0.1479 - mae: 0.3316 - accuracy: 0.7863 - val_loss: 0.1470 - val_mse: 0.1470 - val_mae: 0.3305 - val_accuracy: 0.8217\n",
      "Epoch 12/500\n",
      "20/20 [==============================] - 0s 4ms/step - loss: 0.1647 - mse: 0.1647 - mae: 0.3472 - accuracy: 0.7582 - val_loss: 0.1461 - val_mse: 0.1461 - val_mae: 0.3255 - val_accuracy: 0.8280\n",
      "Epoch 13/500\n",
      "20/20 [==============================] - 0s 4ms/step - loss: 0.1610 - mse: 0.1610 - mae: 0.3387 - accuracy: 0.7658 - val_loss: 0.1440 - val_mse: 0.1440 - val_mae: 0.3211 - val_accuracy: 0.8280\n",
      "Epoch 14/500\n",
      "20/20 [==============================] - 0s 4ms/step - loss: 0.1602 - mse: 0.1602 - mae: 0.3347 - accuracy: 0.7628 - val_loss: 0.1434 - val_mse: 0.1434 - val_mae: 0.3172 - val_accuracy: 0.8217\n",
      "Epoch 15/500\n",
      "20/20 [==============================] - 0s 4ms/step - loss: 0.1499 - mse: 0.1499 - mae: 0.3199 - accuracy: 0.7771 - val_loss: 0.1423 - val_mse: 0.1423 - val_mae: 0.3142 - val_accuracy: 0.8280\n",
      "Epoch 16/500\n",
      "20/20 [==============================] - 0s 4ms/step - loss: 0.1490 - mse: 0.1490 - mae: 0.3212 - accuracy: 0.7939 - val_loss: 0.1413 - val_mse: 0.1413 - val_mae: 0.3127 - val_accuracy: 0.8217\n",
      "Epoch 17/500\n",
      "20/20 [==============================] - 0s 4ms/step - loss: 0.1509 - mse: 0.1509 - mae: 0.3224 - accuracy: 0.7885 - val_loss: 0.1413 - val_mse: 0.1413 - val_mae: 0.3101 - val_accuracy: 0.8217\n",
      "Epoch 18/500\n",
      "20/20 [==============================] - 0s 4ms/step - loss: 0.1377 - mse: 0.1377 - mae: 0.3031 - accuracy: 0.8177 - val_loss: 0.1414 - val_mse: 0.1414 - val_mae: 0.3102 - val_accuracy: 0.8217\n",
      "Epoch 19/500\n",
      "20/20 [==============================] - 0s 4ms/step - loss: 0.1580 - mse: 0.1580 - mae: 0.3259 - accuracy: 0.7810 - val_loss: 0.1430 - val_mse: 0.1430 - val_mae: 0.3091 - val_accuracy: 0.8089\n",
      "Epoch 20/500\n",
      "20/20 [==============================] - 0s 4ms/step - loss: 0.1431 - mse: 0.1431 - mae: 0.3116 - accuracy: 0.7858 - val_loss: 0.1436 - val_mse: 0.1436 - val_mae: 0.3081 - val_accuracy: 0.8089\n",
      "Epoch 21/500\n",
      "20/20 [==============================] - 0s 4ms/step - loss: 0.1474 - mse: 0.1474 - mae: 0.3086 - accuracy: 0.8002 - val_loss: 0.1434 - val_mse: 0.1434 - val_mae: 0.3061 - val_accuracy: 0.8089\n",
      "Epoch 22/500\n",
      "20/20 [==============================] - 0s 4ms/step - loss: 0.1455 - mse: 0.1455 - mae: 0.3070 - accuracy: 0.7840 - val_loss: 0.1414 - val_mse: 0.1414 - val_mae: 0.3032 - val_accuracy: 0.8089\n",
      "Epoch 23/500\n",
      "20/20 [==============================] - 0s 4ms/step - loss: 0.1411 - mse: 0.1411 - mae: 0.2987 - accuracy: 0.8055 - val_loss: 0.1411 - val_mse: 0.1411 - val_mae: 0.3024 - val_accuracy: 0.8153\n",
      "Epoch 24/500\n",
      "20/20 [==============================] - 0s 4ms/step - loss: 0.1443 - mse: 0.1443 - mae: 0.3031 - accuracy: 0.7996 - val_loss: 0.1409 - val_mse: 0.1409 - val_mae: 0.3010 - val_accuracy: 0.8153\n",
      "Epoch 25/500\n",
      "20/20 [==============================] - 0s 4ms/step - loss: 0.1460 - mse: 0.1460 - mae: 0.3031 - accuracy: 0.7860 - val_loss: 0.1404 - val_mse: 0.1404 - val_mae: 0.2995 - val_accuracy: 0.8153\n",
      "Epoch 26/500\n",
      "20/20 [==============================] - 0s 4ms/step - loss: 0.1363 - mse: 0.1363 - mae: 0.2923 - accuracy: 0.8076 - val_loss: 0.1411 - val_mse: 0.1411 - val_mae: 0.3001 - val_accuracy: 0.8217\n",
      "Epoch 27/500\n",
      "20/20 [==============================] - 0s 4ms/step - loss: 0.1426 - mse: 0.1426 - mae: 0.3022 - accuracy: 0.8114 - val_loss: 0.1400 - val_mse: 0.1400 - val_mae: 0.2980 - val_accuracy: 0.8280\n",
      "Epoch 28/500\n",
      "20/20 [==============================] - 0s 4ms/step - loss: 0.1411 - mse: 0.1411 - mae: 0.2985 - accuracy: 0.8145 - val_loss: 0.1416 - val_mse: 0.1416 - val_mae: 0.2987 - val_accuracy: 0.8153\n",
      "Epoch 29/500\n",
      "20/20 [==============================] - 0s 4ms/step - loss: 0.1422 - mse: 0.1422 - mae: 0.2965 - accuracy: 0.7909 - val_loss: 0.1387 - val_mse: 0.1387 - val_mae: 0.2949 - val_accuracy: 0.8344\n",
      "Epoch 30/500\n",
      "20/20 [==============================] - 0s 4ms/step - loss: 0.1371 - mse: 0.1371 - mae: 0.2903 - accuracy: 0.8110 - val_loss: 0.1382 - val_mse: 0.1382 - val_mae: 0.2933 - val_accuracy: 0.8408\n",
      "Epoch 31/500\n",
      "20/20 [==============================] - 0s 4ms/step - loss: 0.1496 - mse: 0.1496 - mae: 0.3012 - accuracy: 0.7876 - val_loss: 0.1386 - val_mse: 0.1386 - val_mae: 0.2914 - val_accuracy: 0.8344\n",
      "Epoch 32/500\n",
      "20/20 [==============================] - 0s 4ms/step - loss: 0.1318 - mse: 0.1318 - mae: 0.2759 - accuracy: 0.8271 - val_loss: 0.1396 - val_mse: 0.1396 - val_mae: 0.2930 - val_accuracy: 0.8280\n",
      "Epoch 33/500\n",
      "20/20 [==============================] - 0s 4ms/step - loss: 0.1300 - mse: 0.1300 - mae: 0.2756 - accuracy: 0.8276 - val_loss: 0.1369 - val_mse: 0.1369 - val_mae: 0.2908 - val_accuracy: 0.8344\n",
      "Epoch 34/500\n",
      "20/20 [==============================] - 0s 4ms/step - loss: 0.1347 - mse: 0.1347 - mae: 0.2869 - accuracy: 0.8144 - val_loss: 0.1378 - val_mse: 0.1378 - val_mae: 0.2917 - val_accuracy: 0.8471\n",
      "Epoch 35/500\n",
      "20/20 [==============================] - 0s 4ms/step - loss: 0.1513 - mse: 0.1513 - mae: 0.3029 - accuracy: 0.7730 - val_loss: 0.1367 - val_mse: 0.1367 - val_mae: 0.2894 - val_accuracy: 0.8344\n"
     ]
    },
    {
     "name": "stdout",
     "output_type": "stream",
     "text": [
      "Epoch 36/500\n",
      "20/20 [==============================] - 0s 5ms/step - loss: 0.1435 - mse: 0.1435 - mae: 0.2946 - accuracy: 0.8031 - val_loss: 0.1367 - val_mse: 0.1367 - val_mae: 0.2879 - val_accuracy: 0.8344\n",
      "Epoch 37/500\n",
      "20/20 [==============================] - 0s 5ms/step - loss: 0.1378 - mse: 0.1378 - mae: 0.2878 - accuracy: 0.8188 - val_loss: 0.1378 - val_mse: 0.1378 - val_mae: 0.2887 - val_accuracy: 0.8408\n",
      "Epoch 38/500\n",
      "20/20 [==============================] - 0s 4ms/step - loss: 0.1351 - mse: 0.1351 - mae: 0.2815 - accuracy: 0.8018 - val_loss: 0.1400 - val_mse: 0.1400 - val_mae: 0.2901 - val_accuracy: 0.8280\n",
      "Epoch 39/500\n",
      "20/20 [==============================] - 0s 4ms/step - loss: 0.1313 - mse: 0.1313 - mae: 0.2778 - accuracy: 0.8208 - val_loss: 0.1380 - val_mse: 0.1380 - val_mae: 0.2867 - val_accuracy: 0.8471\n",
      "Epoch 40/500\n",
      "20/20 [==============================] - 0s 4ms/step - loss: 0.1265 - mse: 0.1265 - mae: 0.2725 - accuracy: 0.8342 - val_loss: 0.1410 - val_mse: 0.1410 - val_mae: 0.2911 - val_accuracy: 0.8217\n",
      "Epoch 41/500\n",
      "20/20 [==============================] - 0s 4ms/step - loss: 0.1366 - mse: 0.1366 - mae: 0.2830 - accuracy: 0.8203 - val_loss: 0.1365 - val_mse: 0.1365 - val_mae: 0.2874 - val_accuracy: 0.8280\n",
      "\n",
      "STOPPU\n"
     ]
    },
    {
     "data": {
      "text/plain": [
       "<tensorflow.python.keras.callbacks.History at 0x1c5be1f5190>"
      ]
     },
     "execution_count": 65,
     "metadata": {},
     "output_type": "execute_result"
    }
   ],
   "source": [
    "# using deep learning method\n",
    "\n",
    "import tensorflow as tf\n",
    "class myCallback(tf.keras.callbacks.Callback):\n",
    "\n",
    "    def on_epoch_end(self, epoch, logs={}):\n",
    "        if (logs.get('val_accuracy') > (0.82) and logs.get('accuracy') > (0.82)):\n",
    "            print(\"\\nSTOPPU\")\n",
    "            self.model.stop_training = True\n",
    "\n",
    "\n",
    "\n",
    "model = tf.keras.Sequential([\n",
    "    tf.keras.layers.Dense(16, activation='relu',input_dim=x_train.shape[1]),\n",
    "    tf.keras.layers.Dense(8, activation='relu'),\n",
    "    tf.keras.layers.Dense(4, activation='relu'),\n",
    "    tf.keras.layers.Dense(2, activation='relu'),\n",
    "    tf.keras.layers.Dense(1, activation='sigmoid') \n",
    "])\n",
    "\n",
    "model.summary()\n",
    "\n",
    "callbacks = myCallback()\n",
    "model.compile(loss='mse', optimizer=tf.keras.optimizers.RMSprop(), metrics=['mse', 'mae','accuracy']) #mse\n",
    "\n",
    "model.fit(x_train, y_train, validation_split=0.2, epochs=500, verbose=1, callbacks=[callbacks])"
   ]
  },
  {
   "cell_type": "code",
   "execution_count": 66,
   "id": "be14342f",
   "metadata": {
    "ExecuteTime": {
     "end_time": "2021-08-08T13:18:42.279032Z",
     "start_time": "2021-08-08T13:18:41.793309Z"
    }
   },
   "outputs": [
    {
     "name": "stdout",
     "output_type": "stream",
     "text": [
      "Threshold = 0.0: \n",
      "1: 196, 0: 0, Accuracy: 0.44387755102040816\n",
      "True 1: 87, True 0: 0, False 1: 109, False 0: 0\n",
      "Predicted True: 87, Predicted False: 109\n",
      "\n",
      "Threshold = 0.01: \n",
      "1: 196, 0: 0, Accuracy: 0.44387755102040816\n",
      "True 1: 87, True 0: 0, False 1: 109, False 0: 0\n",
      "Predicted True: 87, Predicted False: 109\n",
      "\n",
      "Threshold = 0.02: \n",
      "1: 196, 0: 0, Accuracy: 0.44387755102040816\n",
      "True 1: 87, True 0: 0, False 1: 109, False 0: 0\n",
      "Predicted True: 87, Predicted False: 109\n",
      "\n",
      "Threshold = 0.03: \n",
      "1: 196, 0: 0, Accuracy: 0.44387755102040816\n",
      "True 1: 87, True 0: 0, False 1: 109, False 0: 0\n",
      "Predicted True: 87, Predicted False: 109\n",
      "\n",
      "Threshold = 0.04: \n",
      "1: 196, 0: 0, Accuracy: 0.44387755102040816\n",
      "True 1: 87, True 0: 0, False 1: 109, False 0: 0\n",
      "Predicted True: 87, Predicted False: 109\n",
      "\n",
      "Threshold = 0.05: \n",
      "1: 196, 0: 0, Accuracy: 0.44387755102040816\n",
      "True 1: 87, True 0: 0, False 1: 109, False 0: 0\n",
      "Predicted True: 87, Predicted False: 109\n",
      "\n",
      "Threshold = 0.06: \n",
      "1: 196, 0: 0, Accuracy: 0.44387755102040816\n",
      "True 1: 87, True 0: 0, False 1: 109, False 0: 0\n",
      "Predicted True: 87, Predicted False: 109\n",
      "\n",
      "Threshold = 0.07: \n",
      "1: 196, 0: 0, Accuracy: 0.44387755102040816\n",
      "True 1: 87, True 0: 0, False 1: 109, False 0: 0\n",
      "Predicted True: 87, Predicted False: 109\n",
      "\n",
      "Threshold = 0.08: \n",
      "1: 196, 0: 0, Accuracy: 0.44387755102040816\n",
      "True 1: 87, True 0: 0, False 1: 109, False 0: 0\n",
      "Predicted True: 87, Predicted False: 109\n",
      "\n",
      "Threshold = 0.09: \n",
      "1: 196, 0: 0, Accuracy: 0.44387755102040816\n",
      "True 1: 87, True 0: 0, False 1: 109, False 0: 0\n",
      "Predicted True: 87, Predicted False: 109\n",
      "\n",
      "Threshold = 0.1: \n",
      "1: 195, 0: 1, Accuracy: 0.4489795918367347\n",
      "True 1: 87, True 0: 1, False 1: 108, False 0: 0\n",
      "Predicted True: 88, Predicted False: 108\n",
      "\n",
      "Threshold = 0.11: \n",
      "1: 195, 0: 1, Accuracy: 0.4489795918367347\n",
      "True 1: 87, True 0: 1, False 1: 108, False 0: 0\n",
      "Predicted True: 88, Predicted False: 108\n",
      "\n",
      "Threshold = 0.12: \n",
      "1: 192, 0: 4, Accuracy: 0.4642857142857143\n",
      "True 1: 87, True 0: 4, False 1: 105, False 0: 0\n",
      "Predicted True: 91, Predicted False: 105\n",
      "\n",
      "Threshold = 0.13: \n",
      "1: 191, 0: 5, Accuracy: 0.46938775510204084\n",
      "True 1: 87, True 0: 5, False 1: 104, False 0: 0\n",
      "Predicted True: 92, Predicted False: 104\n",
      "\n",
      "Threshold = 0.14: \n",
      "1: 185, 0: 11, Accuracy: 0.5\n",
      "True 1: 87, True 0: 11, False 1: 98, False 0: 0\n",
      "Predicted True: 98, Predicted False: 98\n",
      "\n",
      "Threshold = 0.15: \n",
      "1: 182, 0: 14, Accuracy: 0.5153061224489796\n",
      "True 1: 87, True 0: 14, False 1: 95, False 0: 0\n",
      "Predicted True: 101, Predicted False: 95\n",
      "\n",
      "Threshold = 0.16: \n",
      "1: 175, 0: 21, Accuracy: 0.5408163265306123\n",
      "True 1: 86, True 0: 20, False 1: 89, False 0: 1\n",
      "Predicted True: 106, Predicted False: 90\n",
      "\n",
      "Threshold = 0.17: \n",
      "1: 165, 0: 31, Accuracy: 0.5816326530612245\n",
      "True 1: 85, True 0: 29, False 1: 80, False 0: 2\n",
      "Predicted True: 114, Predicted False: 82\n",
      "\n",
      "Threshold = 0.18: \n",
      "1: 157, 0: 39, Accuracy: 0.6020408163265306\n",
      "True 1: 83, True 0: 35, False 1: 74, False 0: 4\n",
      "Predicted True: 118, Predicted False: 78\n",
      "\n",
      "Threshold = 0.19: \n",
      "1: 153, 0: 43, Accuracy: 0.6122448979591837\n",
      "True 1: 82, True 0: 38, False 1: 71, False 0: 5\n",
      "Predicted True: 120, Predicted False: 76\n",
      "\n",
      "Threshold = 0.2: \n",
      "1: 143, 0: 53, Accuracy: 0.6530612244897959\n",
      "True 1: 81, True 0: 47, False 1: 62, False 0: 6\n",
      "Predicted True: 128, Predicted False: 68\n",
      "\n",
      "Threshold = 0.21: \n",
      "1: 134, 0: 62, Accuracy: 0.6989795918367347\n",
      "True 1: 81, True 0: 56, False 1: 53, False 0: 6\n",
      "Predicted True: 137, Predicted False: 59\n",
      "\n",
      "Threshold = 0.22: \n",
      "1: 124, 0: 72, Accuracy: 0.7397959183673469\n",
      "True 1: 80, True 0: 65, False 1: 44, False 0: 7\n",
      "Predicted True: 145, Predicted False: 51\n",
      "\n",
      "Threshold = 0.23: \n",
      "1: 121, 0: 75, Accuracy: 0.7551020408163265\n",
      "True 1: 80, True 0: 68, False 1: 41, False 0: 7\n",
      "Predicted True: 148, Predicted False: 48\n",
      "\n",
      "Threshold = 0.24: \n",
      "1: 118, 0: 78, Accuracy: 0.7704081632653061\n",
      "True 1: 80, True 0: 71, False 1: 38, False 0: 7\n",
      "Predicted True: 151, Predicted False: 45\n",
      "\n",
      "Threshold = 0.25: \n",
      "1: 116, 0: 80, Accuracy: 0.7806122448979592\n",
      "True 1: 80, True 0: 73, False 1: 36, False 0: 7\n",
      "Predicted True: 153, Predicted False: 43\n",
      "\n",
      "Threshold = 0.26: \n",
      "1: 109, 0: 87, Accuracy: 0.8061224489795918\n",
      "True 1: 79, True 0: 79, False 1: 30, False 0: 8\n",
      "Predicted True: 158, Predicted False: 38\n",
      "\n",
      "Threshold = 0.27: \n",
      "1: 106, 0: 90, Accuracy: 0.8214285714285714\n",
      "True 1: 79, True 0: 82, False 1: 27, False 0: 8\n",
      "Predicted True: 161, Predicted False: 35\n",
      "\n",
      "Threshold = 0.28: \n",
      "1: 106, 0: 90, Accuracy: 0.8214285714285714\n",
      "True 1: 79, True 0: 82, False 1: 27, False 0: 8\n",
      "Predicted True: 161, Predicted False: 35\n",
      "\n",
      "Threshold = 0.29: \n",
      "1: 106, 0: 90, Accuracy: 0.8214285714285714\n",
      "True 1: 79, True 0: 82, False 1: 27, False 0: 8\n",
      "Predicted True: 161, Predicted False: 35\n",
      "\n",
      "Threshold = 0.3: \n",
      "1: 105, 0: 91, Accuracy: 0.826530612244898\n",
      "True 1: 79, True 0: 83, False 1: 26, False 0: 8\n",
      "Predicted True: 162, Predicted False: 34\n",
      "\n",
      "Threshold = 0.31: \n",
      "1: 105, 0: 91, Accuracy: 0.826530612244898\n",
      "True 1: 79, True 0: 83, False 1: 26, False 0: 8\n",
      "Predicted True: 162, Predicted False: 34\n",
      "\n",
      "Threshold = 0.32: \n",
      "1: 104, 0: 92, Accuracy: 0.8316326530612245\n",
      "True 1: 79, True 0: 84, False 1: 25, False 0: 8\n",
      "Predicted True: 163, Predicted False: 33\n",
      "\n",
      "Threshold = 0.33: \n",
      "1: 104, 0: 92, Accuracy: 0.8316326530612245\n",
      "True 1: 79, True 0: 84, False 1: 25, False 0: 8\n",
      "Predicted True: 163, Predicted False: 33\n",
      "\n",
      "Threshold = 0.34: \n",
      "1: 103, 0: 93, Accuracy: 0.8367346938775511\n",
      "True 1: 79, True 0: 85, False 1: 24, False 0: 8\n",
      "Predicted True: 164, Predicted False: 32\n",
      "\n",
      "Threshold = 0.35: \n",
      "1: 99, 0: 97, Accuracy: 0.8469387755102041\n",
      "True 1: 78, True 0: 88, False 1: 21, False 0: 9\n",
      "Predicted True: 166, Predicted False: 30\n",
      "\n",
      "Threshold = 0.36: \n",
      "1: 99, 0: 97, Accuracy: 0.8469387755102041\n",
      "True 1: 78, True 0: 88, False 1: 21, False 0: 9\n",
      "Predicted True: 166, Predicted False: 30\n",
      "\n",
      "Threshold = 0.37: \n",
      "1: 99, 0: 97, Accuracy: 0.8469387755102041\n",
      "True 1: 78, True 0: 88, False 1: 21, False 0: 9\n",
      "Predicted True: 166, Predicted False: 30\n",
      "\n",
      "Threshold = 0.38: \n",
      "1: 95, 0: 101, Accuracy: 0.8571428571428571\n",
      "True 1: 77, True 0: 91, False 1: 18, False 0: 10\n",
      "Predicted True: 168, Predicted False: 28\n",
      "\n",
      "Threshold = 0.39: \n",
      "1: 93, 0: 103, Accuracy: 0.8673469387755102\n",
      "True 1: 77, True 0: 93, False 1: 16, False 0: 10\n",
      "Predicted True: 170, Predicted False: 26\n",
      "\n",
      "Threshold = 0.4: \n",
      "1: 92, 0: 104, Accuracy: 0.8724489795918368\n",
      "True 1: 77, True 0: 94, False 1: 15, False 0: 10\n",
      "Predicted True: 171, Predicted False: 25\n",
      "\n",
      "Threshold = 0.41: \n",
      "1: 90, 0: 106, Accuracy: 0.8724489795918368\n",
      "True 1: 76, True 0: 95, False 1: 14, False 0: 11\n",
      "Predicted True: 171, Predicted False: 25\n",
      "\n",
      "Threshold = 0.42: \n",
      "1: 90, 0: 106, Accuracy: 0.8724489795918368\n",
      "True 1: 76, True 0: 95, False 1: 14, False 0: 11\n",
      "Predicted True: 171, Predicted False: 25\n",
      "\n",
      "Threshold = 0.43: \n",
      "1: 90, 0: 106, Accuracy: 0.8724489795918368\n",
      "True 1: 76, True 0: 95, False 1: 14, False 0: 11\n",
      "Predicted True: 171, Predicted False: 25\n",
      "\n",
      "Threshold = 0.44: \n",
      "1: 89, 0: 107, Accuracy: 0.8775510204081632\n",
      "True 1: 76, True 0: 96, False 1: 13, False 0: 11\n",
      "Predicted True: 172, Predicted False: 24\n",
      "\n",
      "Threshold = 0.45: \n",
      "1: 87, 0: 109, Accuracy: 0.8877551020408163\n",
      "True 1: 76, True 0: 98, False 1: 11, False 0: 11\n",
      "Predicted True: 174, Predicted False: 22\n",
      "\n",
      "Threshold = 0.46: \n",
      "1: 87, 0: 109, Accuracy: 0.8877551020408163\n",
      "True 1: 76, True 0: 98, False 1: 11, False 0: 11\n",
      "Predicted True: 174, Predicted False: 22\n",
      "\n",
      "Threshold = 0.47: \n",
      "1: 87, 0: 109, Accuracy: 0.8877551020408163\n",
      "True 1: 76, True 0: 98, False 1: 11, False 0: 11\n",
      "Predicted True: 174, Predicted False: 22\n",
      "\n",
      "Threshold = 0.48: \n",
      "1: 86, 0: 110, Accuracy: 0.8928571428571429\n",
      "True 1: 76, True 0: 99, False 1: 10, False 0: 11\n",
      "Predicted True: 175, Predicted False: 21\n",
      "\n",
      "Threshold = 0.49: \n",
      "1: 86, 0: 110, Accuracy: 0.8928571428571429\n",
      "True 1: 76, True 0: 99, False 1: 10, False 0: 11\n",
      "Predicted True: 175, Predicted False: 21\n",
      "\n",
      "Threshold = 0.5: \n",
      "1: 84, 0: 112, Accuracy: 0.8826530612244898\n",
      "True 1: 74, True 0: 99, False 1: 10, False 0: 13\n",
      "Predicted True: 173, Predicted False: 23\n",
      "\n",
      "Threshold = 0.51: \n",
      "1: 84, 0: 112, Accuracy: 0.8826530612244898\n",
      "True 1: 74, True 0: 99, False 1: 10, False 0: 13\n",
      "Predicted True: 173, Predicted False: 23\n",
      "\n",
      "Threshold = 0.52: \n",
      "1: 84, 0: 112, Accuracy: 0.8826530612244898\n",
      "True 1: 74, True 0: 99, False 1: 10, False 0: 13\n",
      "Predicted True: 173, Predicted False: 23\n",
      "\n",
      "Threshold = 0.53: \n",
      "1: 84, 0: 112, Accuracy: 0.8826530612244898\n",
      "True 1: 74, True 0: 99, False 1: 10, False 0: 13\n",
      "Predicted True: 173, Predicted False: 23\n",
      "\n",
      "Threshold = 0.54: \n",
      "1: 81, 0: 115, Accuracy: 0.8673469387755102\n",
      "True 1: 71, True 0: 99, False 1: 10, False 0: 16\n",
      "Predicted True: 170, Predicted False: 26\n",
      "\n",
      "Threshold = 0.55: \n",
      "1: 81, 0: 115, Accuracy: 0.8673469387755102\n",
      "True 1: 71, True 0: 99, False 1: 10, False 0: 16\n",
      "Predicted True: 170, Predicted False: 26\n",
      "\n",
      "Threshold = 0.56: \n",
      "1: 81, 0: 115, Accuracy: 0.8673469387755102\n",
      "True 1: 71, True 0: 99, False 1: 10, False 0: 16\n",
      "Predicted True: 170, Predicted False: 26\n",
      "\n",
      "Threshold = 0.57: \n",
      "1: 81, 0: 115, Accuracy: 0.8673469387755102\n",
      "True 1: 71, True 0: 99, False 1: 10, False 0: 16\n",
      "Predicted True: 170, Predicted False: 26\n",
      "\n"
     ]
    },
    {
     "name": "stdout",
     "output_type": "stream",
     "text": [
      "Threshold = 0.58: \n",
      "1: 81, 0: 115, Accuracy: 0.8673469387755102\n",
      "True 1: 71, True 0: 99, False 1: 10, False 0: 16\n",
      "Predicted True: 170, Predicted False: 26\n",
      "\n",
      "Threshold = 0.59: \n",
      "1: 80, 0: 116, Accuracy: 0.8622448979591837\n",
      "True 1: 70, True 0: 99, False 1: 10, False 0: 17\n",
      "Predicted True: 169, Predicted False: 27\n",
      "\n",
      "Threshold = 0.6: \n",
      "1: 78, 0: 118, Accuracy: 0.8520408163265306\n",
      "True 1: 68, True 0: 99, False 1: 10, False 0: 19\n",
      "Predicted True: 167, Predicted False: 29\n",
      "\n",
      "Threshold = 0.61: \n",
      "1: 77, 0: 119, Accuracy: 0.8469387755102041\n",
      "True 1: 67, True 0: 99, False 1: 10, False 0: 20\n",
      "Predicted True: 166, Predicted False: 30\n",
      "\n",
      "Threshold = 0.62: \n",
      "1: 74, 0: 122, Accuracy: 0.8520408163265306\n",
      "True 1: 66, True 0: 101, False 1: 8, False 0: 21\n",
      "Predicted True: 167, Predicted False: 29\n",
      "\n",
      "Threshold = 0.63: \n",
      "1: 74, 0: 122, Accuracy: 0.8520408163265306\n",
      "True 1: 66, True 0: 101, False 1: 8, False 0: 21\n",
      "Predicted True: 167, Predicted False: 29\n",
      "\n",
      "Threshold = 0.64: \n",
      "1: 72, 0: 124, Accuracy: 0.8520408163265306\n",
      "True 1: 65, True 0: 102, False 1: 7, False 0: 22\n",
      "Predicted True: 167, Predicted False: 29\n",
      "\n",
      "Threshold = 0.65: \n",
      "1: 71, 0: 125, Accuracy: 0.8571428571428571\n",
      "True 1: 65, True 0: 103, False 1: 6, False 0: 22\n",
      "Predicted True: 168, Predicted False: 28\n",
      "\n",
      "Threshold = 0.66: \n",
      "1: 70, 0: 126, Accuracy: 0.8520408163265306\n",
      "True 1: 64, True 0: 103, False 1: 6, False 0: 23\n",
      "Predicted True: 167, Predicted False: 29\n",
      "\n",
      "Threshold = 0.67: \n",
      "1: 68, 0: 128, Accuracy: 0.8418367346938775\n",
      "True 1: 62, True 0: 103, False 1: 6, False 0: 25\n",
      "Predicted True: 165, Predicted False: 31\n",
      "\n",
      "Threshold = 0.68: \n",
      "1: 67, 0: 129, Accuracy: 0.8367346938775511\n",
      "True 1: 61, True 0: 103, False 1: 6, False 0: 26\n",
      "Predicted True: 164, Predicted False: 32\n",
      "\n",
      "Threshold = 0.69: \n",
      "1: 66, 0: 130, Accuracy: 0.8418367346938775\n",
      "True 1: 61, True 0: 104, False 1: 5, False 0: 26\n",
      "Predicted True: 165, Predicted False: 31\n",
      "\n",
      "Threshold = 0.7: \n",
      "1: 64, 0: 132, Accuracy: 0.8316326530612245\n",
      "True 1: 59, True 0: 104, False 1: 5, False 0: 28\n",
      "Predicted True: 163, Predicted False: 33\n",
      "\n",
      "Threshold = 0.71: \n",
      "1: 63, 0: 133, Accuracy: 0.8367346938775511\n",
      "True 1: 59, True 0: 105, False 1: 4, False 0: 28\n",
      "Predicted True: 164, Predicted False: 32\n",
      "\n",
      "Threshold = 0.72: \n",
      "1: 61, 0: 135, Accuracy: 0.8367346938775511\n",
      "True 1: 58, True 0: 106, False 1: 3, False 0: 29\n",
      "Predicted True: 164, Predicted False: 32\n",
      "\n",
      "Threshold = 0.73: \n",
      "1: 61, 0: 135, Accuracy: 0.8367346938775511\n",
      "True 1: 58, True 0: 106, False 1: 3, False 0: 29\n",
      "Predicted True: 164, Predicted False: 32\n",
      "\n",
      "Threshold = 0.74: \n",
      "1: 61, 0: 135, Accuracy: 0.8367346938775511\n",
      "True 1: 58, True 0: 106, False 1: 3, False 0: 29\n",
      "Predicted True: 164, Predicted False: 32\n",
      "\n",
      "Threshold = 0.75: \n",
      "1: 61, 0: 135, Accuracy: 0.8367346938775511\n",
      "True 1: 58, True 0: 106, False 1: 3, False 0: 29\n",
      "Predicted True: 164, Predicted False: 32\n",
      "\n",
      "Threshold = 0.76: \n",
      "1: 59, 0: 137, Accuracy: 0.826530612244898\n",
      "True 1: 56, True 0: 106, False 1: 3, False 0: 31\n",
      "Predicted True: 162, Predicted False: 34\n",
      "\n",
      "Threshold = 0.77: \n",
      "1: 59, 0: 137, Accuracy: 0.826530612244898\n",
      "True 1: 56, True 0: 106, False 1: 3, False 0: 31\n",
      "Predicted True: 162, Predicted False: 34\n",
      "\n",
      "Threshold = 0.78: \n",
      "1: 59, 0: 137, Accuracy: 0.826530612244898\n",
      "True 1: 56, True 0: 106, False 1: 3, False 0: 31\n",
      "Predicted True: 162, Predicted False: 34\n",
      "\n",
      "Threshold = 0.79: \n",
      "1: 58, 0: 138, Accuracy: 0.8214285714285714\n",
      "True 1: 55, True 0: 106, False 1: 3, False 0: 32\n",
      "Predicted True: 161, Predicted False: 35\n",
      "\n",
      "Threshold = 0.8: \n",
      "1: 56, 0: 140, Accuracy: 0.8112244897959183\n",
      "True 1: 53, True 0: 106, False 1: 3, False 0: 34\n",
      "Predicted True: 159, Predicted False: 37\n",
      "\n",
      "Threshold = 0.81: \n",
      "1: 55, 0: 141, Accuracy: 0.8061224489795918\n",
      "True 1: 52, True 0: 106, False 1: 3, False 0: 35\n",
      "Predicted True: 158, Predicted False: 38\n",
      "\n",
      "Threshold = 0.82: \n",
      "1: 53, 0: 143, Accuracy: 0.8061224489795918\n",
      "True 1: 51, True 0: 107, False 1: 2, False 0: 36\n",
      "Predicted True: 158, Predicted False: 38\n",
      "\n",
      "Threshold = 0.83: \n",
      "1: 52, 0: 144, Accuracy: 0.8010204081632653\n",
      "True 1: 50, True 0: 107, False 1: 2, False 0: 37\n",
      "Predicted True: 157, Predicted False: 39\n",
      "\n",
      "Threshold = 0.84: \n",
      "1: 50, 0: 146, Accuracy: 0.7908163265306123\n",
      "True 1: 48, True 0: 107, False 1: 2, False 0: 39\n",
      "Predicted True: 155, Predicted False: 41\n",
      "\n",
      "Threshold = 0.85: \n",
      "1: 48, 0: 148, Accuracy: 0.7806122448979592\n",
      "True 1: 46, True 0: 107, False 1: 2, False 0: 41\n",
      "Predicted True: 153, Predicted False: 43\n",
      "\n",
      "Threshold = 0.86: \n",
      "1: 45, 0: 151, Accuracy: 0.7653061224489796\n",
      "True 1: 43, True 0: 107, False 1: 2, False 0: 44\n",
      "Predicted True: 150, Predicted False: 46\n",
      "\n",
      "Threshold = 0.87: \n",
      "1: 41, 0: 155, Accuracy: 0.7448979591836735\n",
      "True 1: 39, True 0: 107, False 1: 2, False 0: 48\n",
      "Predicted True: 146, Predicted False: 50\n",
      "\n",
      "Threshold = 0.88: \n",
      "1: 41, 0: 155, Accuracy: 0.7448979591836735\n",
      "True 1: 39, True 0: 107, False 1: 2, False 0: 48\n",
      "Predicted True: 146, Predicted False: 50\n",
      "\n",
      "Threshold = 0.89: \n",
      "1: 40, 0: 156, Accuracy: 0.7397959183673469\n",
      "True 1: 38, True 0: 107, False 1: 2, False 0: 49\n",
      "Predicted True: 145, Predicted False: 51\n",
      "\n",
      "Threshold = 0.9: \n",
      "1: 38, 0: 158, Accuracy: 0.7295918367346939\n",
      "True 1: 36, True 0: 107, False 1: 2, False 0: 51\n",
      "Predicted True: 143, Predicted False: 53\n",
      "\n",
      "Threshold = 0.91: \n",
      "1: 38, 0: 158, Accuracy: 0.7295918367346939\n",
      "True 1: 36, True 0: 107, False 1: 2, False 0: 51\n",
      "Predicted True: 143, Predicted False: 53\n",
      "\n",
      "Threshold = 0.92: \n",
      "1: 33, 0: 163, Accuracy: 0.7040816326530612\n",
      "True 1: 31, True 0: 107, False 1: 2, False 0: 56\n",
      "Predicted True: 138, Predicted False: 58\n",
      "\n",
      "Threshold = 0.93: \n",
      "1: 29, 0: 167, Accuracy: 0.6836734693877551\n",
      "True 1: 27, True 0: 107, False 1: 2, False 0: 60\n",
      "Predicted True: 134, Predicted False: 62\n",
      "\n",
      "Threshold = 0.94: \n",
      "1: 28, 0: 168, Accuracy: 0.6785714285714286\n",
      "True 1: 26, True 0: 107, False 1: 2, False 0: 61\n",
      "Predicted True: 133, Predicted False: 63\n",
      "\n",
      "Threshold = 0.95: \n",
      "1: 28, 0: 168, Accuracy: 0.6785714285714286\n",
      "True 1: 26, True 0: 107, False 1: 2, False 0: 61\n",
      "Predicted True: 133, Predicted False: 63\n",
      "\n",
      "Threshold = 0.96: \n",
      "1: 28, 0: 168, Accuracy: 0.6785714285714286\n",
      "True 1: 26, True 0: 107, False 1: 2, False 0: 61\n",
      "Predicted True: 133, Predicted False: 63\n",
      "\n",
      "Threshold = 0.97: \n",
      "1: 25, 0: 171, Accuracy: 0.673469387755102\n",
      "True 1: 24, True 0: 108, False 1: 1, False 0: 63\n",
      "Predicted True: 132, Predicted False: 64\n",
      "\n",
      "Threshold = 0.98: \n",
      "1: 14, 0: 182, Accuracy: 0.6173469387755102\n",
      "True 1: 13, True 0: 108, False 1: 1, False 0: 74\n",
      "Predicted True: 121, Predicted False: 75\n",
      "\n",
      "Threshold = 0.99: \n",
      "1: 0, 0: 196, Accuracy: 0.5561224489795918\n",
      "True 1: 0, True 0: 109, False 1: 0, False 0: 87\n",
      "Predicted True: 109, Predicted False: 87\n",
      "\n",
      "Threshold = 1.0: \n",
      "1: 0, 0: 196, Accuracy: 0.5561224489795918\n",
      "True 1: 0, True 0: 109, False 1: 0, False 0: 87\n",
      "Predicted True: 109, Predicted False: 87\n",
      "\n"
     ]
    }
   ],
   "source": [
    "predictions = model.predict(x_test)\n",
    "def see_score(y_validate, predictions, threshold):\n",
    "    test = [x for x in predictions]\n",
    "    pred = []\n",
    "    for x in test:\n",
    "        if x[0] > threshold: # Higher Threshold\n",
    "            pred.append(1)\n",
    "        else:                # Lower Threshold\n",
    "            pred.append(0)\n",
    "    tn, fp, fn, tp = confusion_matrix(y_validate, pred).ravel()\n",
    "    print(f\"Threshold = {threshold}: \\n1: {pred.count(1)}, 0: {pred.count(0)}, Accuracy: {accuracy_score(y_validate, pred)}\")\n",
    "    print(f'True 1: {tp}, True 0: {tn}, False 1: {fp}, False 0: {fn}')\n",
    "    print(f'Predicted True: {tp+tn}, Predicted False: {fp+fn}\\n')\n",
    "    \n",
    "    \n",
    "for i in range(101):\n",
    "    see_score(y_test, predictions, i/100)"
   ]
  },
  {
   "cell_type": "markdown",
   "id": "d4a094b1",
   "metadata": {},
   "source": [
    "# Let's Predict titanic_test"
   ]
  },
  {
   "cell_type": "code",
   "execution_count": 67,
   "id": "b6743962",
   "metadata": {
    "ExecuteTime": {
     "end_time": "2021-08-08T13:18:42.310272Z",
     "start_time": "2021-08-08T13:18:42.279032Z"
    }
   },
   "outputs": [
    {
     "name": "stdout",
     "output_type": "stream",
     "text": [
      "0       892\n",
      "1       893\n",
      "2       894\n",
      "3       895\n",
      "4       896\n",
      "       ... \n",
      "413    1305\n",
      "414    1306\n",
      "415    1307\n",
      "416    1308\n",
      "417    1309\n",
      "Name: PassengerId, Length: 418, dtype: int64\n",
      "     Pclass     Sex   Age  SibSp  Parch Cabin Embarked\n",
      "0         3    male  34.5      0      0   NaN        Q\n",
      "1         3  female  47.0      1      0   NaN        S\n",
      "2         2    male  62.0      0      0   NaN        Q\n",
      "3         3    male  27.0      0      0   NaN        S\n",
      "4         3  female  22.0      1      1   NaN        S\n",
      "..      ...     ...   ...    ...    ...   ...      ...\n",
      "413       3    male   NaN      0      0   NaN        S\n",
      "414       1  female  39.0      0      0  C105        C\n",
      "415       3    male  38.5      0      0   NaN        S\n",
      "416       3    male   NaN      0      0   NaN        S\n",
      "417       3    male   NaN      1      1   NaN        C\n",
      "\n",
      "[418 rows x 7 columns]\n"
     ]
    }
   ],
   "source": [
    "print(passenger_id_test)\n",
    "print(titanic_test)"
   ]
  },
  {
   "cell_type": "code",
   "execution_count": 68,
   "id": "c92351b2",
   "metadata": {
    "ExecuteTime": {
     "end_time": "2021-08-08T13:18:42.348149Z",
     "start_time": "2021-08-08T13:18:42.316785Z"
    }
   },
   "outputs": [
    {
     "data": {
      "text/plain": [
       "Pclass      False\n",
       "Sex         False\n",
       "Age          True\n",
       "SibSp       False\n",
       "Parch       False\n",
       "Cabin        True\n",
       "Embarked    False\n",
       "dtype: bool"
      ]
     },
     "execution_count": 68,
     "metadata": {},
     "output_type": "execute_result"
    }
   ],
   "source": [
    "titanic_test.isna().any()"
   ]
  },
  {
   "cell_type": "code",
   "execution_count": 69,
   "id": "3665bf67",
   "metadata": {
    "ExecuteTime": {
     "end_time": "2021-08-08T13:18:42.363670Z",
     "start_time": "2021-08-08T13:18:42.348149Z"
    }
   },
   "outputs": [
    {
     "data": {
      "text/plain": [
       "False"
      ]
     },
     "execution_count": 69,
     "metadata": {},
     "output_type": "execute_result"
    }
   ],
   "source": [
    "# Replacing nan with mean\n",
    "titanic_test['Age'] = titanic_test['Age'].replace(np.nan, titanic_test['Age'].mean())\n",
    "titanic_test['Age'].isna().any()"
   ]
  },
  {
   "cell_type": "code",
   "execution_count": 70,
   "id": "5a13f003",
   "metadata": {
    "ExecuteTime": {
     "end_time": "2021-08-08T13:18:42.410541Z",
     "start_time": "2021-08-08T13:18:42.363670Z"
    }
   },
   "outputs": [
    {
     "data": {
      "text/plain": [
       "False"
      ]
     },
     "execution_count": 70,
     "metadata": {},
     "output_type": "execute_result"
    }
   ],
   "source": [
    "# See non- NaN value data in Cabin\n",
    "alp_data = []\n",
    "for data in titanic_test['Cabin'].values:\n",
    "    if type(data) != float:\n",
    "        alp_data.append(data[0])\n",
    "\n",
    "# Replace nan value to something letter in alphabet, and replacing Cabin ID with first letter of the Cabin ID\n",
    "titanic_test['Cabin'].fillna('N_cabin', inplace=True) # change to N\n",
    "\n",
    "for i in list(set(alp_data)):\n",
    "    # replace Cabin ID with first letter of the Cabin ID\n",
    "    titanic_test.loc[titanic_test['Cabin'].str.startswith(i), 'Cabin'] = f\"{i}_cabin\"\n",
    "    \n",
    "titanic_test['Cabin'].isna().any()"
   ]
  },
  {
   "cell_type": "code",
   "execution_count": 71,
   "id": "3a770c17",
   "metadata": {
    "ExecuteTime": {
     "end_time": "2021-08-08T13:18:42.432694Z",
     "start_time": "2021-08-08T13:18:42.410541Z"
    }
   },
   "outputs": [
    {
     "data": {
      "text/plain": [
       "Pclass      False\n",
       "Sex         False\n",
       "Age         False\n",
       "SibSp       False\n",
       "Parch       False\n",
       "Cabin       False\n",
       "Embarked    False\n",
       "dtype: bool"
      ]
     },
     "execution_count": 71,
     "metadata": {},
     "output_type": "execute_result"
    }
   ],
   "source": [
    "titanic_test.isna().any()"
   ]
  },
  {
   "cell_type": "code",
   "execution_count": 72,
   "id": "d799df31",
   "metadata": {
    "ExecuteTime": {
     "end_time": "2021-08-08T13:18:42.463944Z",
     "start_time": "2021-08-08T13:18:42.432694Z"
    }
   },
   "outputs": [
    {
     "data": {
      "text/html": [
       "<div>\n",
       "<style scoped>\n",
       "    .dataframe tbody tr th:only-of-type {\n",
       "        vertical-align: middle;\n",
       "    }\n",
       "\n",
       "    .dataframe tbody tr th {\n",
       "        vertical-align: top;\n",
       "    }\n",
       "\n",
       "    .dataframe thead th {\n",
       "        text-align: right;\n",
       "    }\n",
       "</style>\n",
       "<table border=\"1\" class=\"dataframe\">\n",
       "  <thead>\n",
       "    <tr style=\"text-align: right;\">\n",
       "      <th></th>\n",
       "      <th>Pclass</th>\n",
       "      <th>Sex</th>\n",
       "      <th>Age</th>\n",
       "      <th>SibSp</th>\n",
       "      <th>Parch</th>\n",
       "      <th>Cabin</th>\n",
       "      <th>Embarked</th>\n",
       "    </tr>\n",
       "  </thead>\n",
       "  <tbody>\n",
       "    <tr>\n",
       "      <th>0</th>\n",
       "      <td>3</td>\n",
       "      <td>male</td>\n",
       "      <td>34.50000</td>\n",
       "      <td>0</td>\n",
       "      <td>0</td>\n",
       "      <td>N_cabin</td>\n",
       "      <td>Q</td>\n",
       "    </tr>\n",
       "    <tr>\n",
       "      <th>1</th>\n",
       "      <td>3</td>\n",
       "      <td>female</td>\n",
       "      <td>47.00000</td>\n",
       "      <td>1</td>\n",
       "      <td>0</td>\n",
       "      <td>N_cabin</td>\n",
       "      <td>S</td>\n",
       "    </tr>\n",
       "    <tr>\n",
       "      <th>2</th>\n",
       "      <td>2</td>\n",
       "      <td>male</td>\n",
       "      <td>62.00000</td>\n",
       "      <td>0</td>\n",
       "      <td>0</td>\n",
       "      <td>N_cabin</td>\n",
       "      <td>Q</td>\n",
       "    </tr>\n",
       "    <tr>\n",
       "      <th>3</th>\n",
       "      <td>3</td>\n",
       "      <td>male</td>\n",
       "      <td>27.00000</td>\n",
       "      <td>0</td>\n",
       "      <td>0</td>\n",
       "      <td>N_cabin</td>\n",
       "      <td>S</td>\n",
       "    </tr>\n",
       "    <tr>\n",
       "      <th>4</th>\n",
       "      <td>3</td>\n",
       "      <td>female</td>\n",
       "      <td>22.00000</td>\n",
       "      <td>1</td>\n",
       "      <td>1</td>\n",
       "      <td>N_cabin</td>\n",
       "      <td>S</td>\n",
       "    </tr>\n",
       "    <tr>\n",
       "      <th>...</th>\n",
       "      <td>...</td>\n",
       "      <td>...</td>\n",
       "      <td>...</td>\n",
       "      <td>...</td>\n",
       "      <td>...</td>\n",
       "      <td>...</td>\n",
       "      <td>...</td>\n",
       "    </tr>\n",
       "    <tr>\n",
       "      <th>413</th>\n",
       "      <td>3</td>\n",
       "      <td>male</td>\n",
       "      <td>30.27259</td>\n",
       "      <td>0</td>\n",
       "      <td>0</td>\n",
       "      <td>N_cabin</td>\n",
       "      <td>S</td>\n",
       "    </tr>\n",
       "    <tr>\n",
       "      <th>414</th>\n",
       "      <td>1</td>\n",
       "      <td>female</td>\n",
       "      <td>39.00000</td>\n",
       "      <td>0</td>\n",
       "      <td>0</td>\n",
       "      <td>C_cabin</td>\n",
       "      <td>C</td>\n",
       "    </tr>\n",
       "    <tr>\n",
       "      <th>415</th>\n",
       "      <td>3</td>\n",
       "      <td>male</td>\n",
       "      <td>38.50000</td>\n",
       "      <td>0</td>\n",
       "      <td>0</td>\n",
       "      <td>N_cabin</td>\n",
       "      <td>S</td>\n",
       "    </tr>\n",
       "    <tr>\n",
       "      <th>416</th>\n",
       "      <td>3</td>\n",
       "      <td>male</td>\n",
       "      <td>30.27259</td>\n",
       "      <td>0</td>\n",
       "      <td>0</td>\n",
       "      <td>N_cabin</td>\n",
       "      <td>S</td>\n",
       "    </tr>\n",
       "    <tr>\n",
       "      <th>417</th>\n",
       "      <td>3</td>\n",
       "      <td>male</td>\n",
       "      <td>30.27259</td>\n",
       "      <td>1</td>\n",
       "      <td>1</td>\n",
       "      <td>N_cabin</td>\n",
       "      <td>C</td>\n",
       "    </tr>\n",
       "  </tbody>\n",
       "</table>\n",
       "<p>418 rows × 7 columns</p>\n",
       "</div>"
      ],
      "text/plain": [
       "     Pclass     Sex       Age  SibSp  Parch    Cabin Embarked\n",
       "0         3    male  34.50000      0      0  N_cabin        Q\n",
       "1         3  female  47.00000      1      0  N_cabin        S\n",
       "2         2    male  62.00000      0      0  N_cabin        Q\n",
       "3         3    male  27.00000      0      0  N_cabin        S\n",
       "4         3  female  22.00000      1      1  N_cabin        S\n",
       "..      ...     ...       ...    ...    ...      ...      ...\n",
       "413       3    male  30.27259      0      0  N_cabin        S\n",
       "414       1  female  39.00000      0      0  C_cabin        C\n",
       "415       3    male  38.50000      0      0  N_cabin        S\n",
       "416       3    male  30.27259      0      0  N_cabin        S\n",
       "417       3    male  30.27259      1      1  N_cabin        C\n",
       "\n",
       "[418 rows x 7 columns]"
      ]
     },
     "execution_count": 72,
     "metadata": {},
     "output_type": "execute_result"
    }
   ],
   "source": [
    "titanic_test"
   ]
  },
  {
   "cell_type": "code",
   "execution_count": 73,
   "id": "6eb743fa",
   "metadata": {
    "ExecuteTime": {
     "end_time": "2021-08-08T13:18:42.479556Z",
     "start_time": "2021-08-08T13:18:42.463944Z"
    }
   },
   "outputs": [
    {
     "name": "stdout",
     "output_type": "stream",
     "text": [
      "Pclass        int64\n",
      "Sex          object\n",
      "Age         float64\n",
      "SibSp         int64\n",
      "Parch         int64\n",
      "Cabin        object\n",
      "Embarked     object\n",
      "dtype: object\n"
     ]
    }
   ],
   "source": [
    "'''\n",
    "non float64 is Survived, Pclass, Sex, \n",
    "               SibSp, Parch, Cabin and Embarked\n",
    "'''\n",
    "print(titanic_test.dtypes)"
   ]
  },
  {
   "cell_type": "code",
   "execution_count": 74,
   "id": "065014f6",
   "metadata": {
    "ExecuteTime": {
     "end_time": "2021-08-08T13:18:42.548584Z",
     "start_time": "2021-08-08T13:18:42.479556Z"
    }
   },
   "outputs": [
    {
     "data": {
      "text/html": [
       "<div>\n",
       "<style scoped>\n",
       "    .dataframe tbody tr th:only-of-type {\n",
       "        vertical-align: middle;\n",
       "    }\n",
       "\n",
       "    .dataframe tbody tr th {\n",
       "        vertical-align: top;\n",
       "    }\n",
       "\n",
       "    .dataframe thead th {\n",
       "        text-align: right;\n",
       "    }\n",
       "</style>\n",
       "<table border=\"1\" class=\"dataframe\">\n",
       "  <thead>\n",
       "    <tr style=\"text-align: right;\">\n",
       "      <th></th>\n",
       "      <th>Pclass</th>\n",
       "      <th>Sex</th>\n",
       "      <th>Age</th>\n",
       "      <th>SibSp</th>\n",
       "      <th>Parch</th>\n",
       "      <th>Cabin</th>\n",
       "      <th>Embarked</th>\n",
       "    </tr>\n",
       "  </thead>\n",
       "  <tbody>\n",
       "    <tr>\n",
       "      <th>0</th>\n",
       "      <td>3</td>\n",
       "      <td>0</td>\n",
       "      <td>34.50000</td>\n",
       "      <td>0</td>\n",
       "      <td>0</td>\n",
       "      <td>0</td>\n",
       "      <td>2</td>\n",
       "    </tr>\n",
       "    <tr>\n",
       "      <th>1</th>\n",
       "      <td>3</td>\n",
       "      <td>1</td>\n",
       "      <td>47.00000</td>\n",
       "      <td>1</td>\n",
       "      <td>0</td>\n",
       "      <td>0</td>\n",
       "      <td>0</td>\n",
       "    </tr>\n",
       "    <tr>\n",
       "      <th>2</th>\n",
       "      <td>2</td>\n",
       "      <td>0</td>\n",
       "      <td>62.00000</td>\n",
       "      <td>0</td>\n",
       "      <td>0</td>\n",
       "      <td>0</td>\n",
       "      <td>2</td>\n",
       "    </tr>\n",
       "    <tr>\n",
       "      <th>3</th>\n",
       "      <td>3</td>\n",
       "      <td>0</td>\n",
       "      <td>27.00000</td>\n",
       "      <td>0</td>\n",
       "      <td>0</td>\n",
       "      <td>0</td>\n",
       "      <td>0</td>\n",
       "    </tr>\n",
       "    <tr>\n",
       "      <th>4</th>\n",
       "      <td>3</td>\n",
       "      <td>1</td>\n",
       "      <td>22.00000</td>\n",
       "      <td>1</td>\n",
       "      <td>1</td>\n",
       "      <td>0</td>\n",
       "      <td>0</td>\n",
       "    </tr>\n",
       "    <tr>\n",
       "      <th>...</th>\n",
       "      <td>...</td>\n",
       "      <td>...</td>\n",
       "      <td>...</td>\n",
       "      <td>...</td>\n",
       "      <td>...</td>\n",
       "      <td>...</td>\n",
       "      <td>...</td>\n",
       "    </tr>\n",
       "    <tr>\n",
       "      <th>413</th>\n",
       "      <td>3</td>\n",
       "      <td>0</td>\n",
       "      <td>30.27259</td>\n",
       "      <td>0</td>\n",
       "      <td>0</td>\n",
       "      <td>0</td>\n",
       "      <td>0</td>\n",
       "    </tr>\n",
       "    <tr>\n",
       "      <th>414</th>\n",
       "      <td>1</td>\n",
       "      <td>1</td>\n",
       "      <td>39.00000</td>\n",
       "      <td>0</td>\n",
       "      <td>0</td>\n",
       "      <td>1</td>\n",
       "      <td>1</td>\n",
       "    </tr>\n",
       "    <tr>\n",
       "      <th>415</th>\n",
       "      <td>3</td>\n",
       "      <td>0</td>\n",
       "      <td>38.50000</td>\n",
       "      <td>0</td>\n",
       "      <td>0</td>\n",
       "      <td>0</td>\n",
       "      <td>0</td>\n",
       "    </tr>\n",
       "    <tr>\n",
       "      <th>416</th>\n",
       "      <td>3</td>\n",
       "      <td>0</td>\n",
       "      <td>30.27259</td>\n",
       "      <td>0</td>\n",
       "      <td>0</td>\n",
       "      <td>0</td>\n",
       "      <td>0</td>\n",
       "    </tr>\n",
       "    <tr>\n",
       "      <th>417</th>\n",
       "      <td>3</td>\n",
       "      <td>0</td>\n",
       "      <td>30.27259</td>\n",
       "      <td>1</td>\n",
       "      <td>1</td>\n",
       "      <td>0</td>\n",
       "      <td>1</td>\n",
       "    </tr>\n",
       "  </tbody>\n",
       "</table>\n",
       "<p>418 rows × 7 columns</p>\n",
       "</div>"
      ],
      "text/plain": [
       "     Pclass Sex       Age  SibSp  Parch Cabin Embarked\n",
       "0         3   0  34.50000      0      0     0        2\n",
       "1         3   1  47.00000      1      0     0        0\n",
       "2         2   0  62.00000      0      0     0        2\n",
       "3         3   0  27.00000      0      0     0        0\n",
       "4         3   1  22.00000      1      1     0        0\n",
       "..      ...  ..       ...    ...    ...   ...      ...\n",
       "413       3   0  30.27259      0      0     0        0\n",
       "414       1   1  39.00000      0      0     1        1\n",
       "415       3   0  38.50000      0      0     0        0\n",
       "416       3   0  30.27259      0      0     0        0\n",
       "417       3   0  30.27259      1      1     0        1\n",
       "\n",
       "[418 rows x 7 columns]"
      ]
     },
     "execution_count": 74,
     "metadata": {},
     "output_type": "execute_result"
    }
   ],
   "source": [
    "# then, first i will convert object datatype to float\n",
    "\n",
    "titanic_test.loc[titanic_test['Sex'] == 'male', 'Sex'] = 0\n",
    "titanic_test.loc[titanic_test['Sex'] == 'female', 'Sex'] = 1\n",
    "\n",
    "for num, cols in enumerate(list(titanic_test['Embarked'].value_counts().keys())):\n",
    "    titanic_test.loc[titanic_test['Embarked'] == cols, 'Embarked'] = num\n",
    "    \n",
    "for num, cols in enumerate(list(titanic_test['Cabin'].value_counts().keys())):\n",
    "    titanic_test.loc[titanic_test['Cabin'] == cols, 'Cabin'] = num\n",
    "titanic_test"
   ]
  },
  {
   "cell_type": "code",
   "execution_count": 75,
   "id": "7d5ede6b",
   "metadata": {
    "ExecuteTime": {
     "end_time": "2021-08-08T13:18:42.564208Z",
     "start_time": "2021-08-08T13:18:42.548584Z"
    }
   },
   "outputs": [
    {
     "name": "stdout",
     "output_type": "stream",
     "text": [
      "Pclass        int64\n",
      "Sex          object\n",
      "Age         float64\n",
      "SibSp         int64\n",
      "Parch         int64\n",
      "Cabin        object\n",
      "Embarked     object\n",
      "dtype: object\n"
     ]
    }
   ],
   "source": [
    "# there is still int64 datatype\n",
    "print(titanic_test.dtypes)"
   ]
  },
  {
   "cell_type": "code",
   "execution_count": 76,
   "id": "48e7e0a7",
   "metadata": {
    "ExecuteTime": {
     "end_time": "2021-08-08T13:18:42.595452Z",
     "start_time": "2021-08-08T13:18:42.564208Z"
    }
   },
   "outputs": [
    {
     "name": "stdout",
     "output_type": "stream",
     "text": [
      "Pclass      float64\n",
      "Sex         float64\n",
      "Age         float64\n",
      "SibSp       float64\n",
      "Parch       float64\n",
      "Cabin       float64\n",
      "Embarked    float64\n",
      "dtype: object\n"
     ]
    }
   ],
   "source": [
    "# convert int64 to float64\n",
    "titanic_test['Pclass'] = titanic_test['Pclass'].astype('float64')\n",
    "titanic_test['SibSp'] = titanic_test['SibSp'].astype('float64')\n",
    "titanic_test['Parch'] = titanic_test['Parch'].astype('float64')\n",
    "titanic_test['Sex'] = titanic_test['Sex'].astype('float64')\n",
    "titanic_test['Cabin'] = titanic_test['Cabin'].astype('float64')\n",
    "titanic_test['Embarked'] = titanic_test['Embarked'].astype('float64')\n",
    "\n",
    "# is converted?\n",
    "print(titanic_test.dtypes)"
   ]
  },
  {
   "cell_type": "code",
   "execution_count": 77,
   "id": "fec441c6",
   "metadata": {
    "ExecuteTime": {
     "end_time": "2021-08-08T13:18:42.648856Z",
     "start_time": "2021-08-08T13:18:42.595452Z"
    }
   },
   "outputs": [
    {
     "data": {
      "text/html": [
       "<div>\n",
       "<style scoped>\n",
       "    .dataframe tbody tr th:only-of-type {\n",
       "        vertical-align: middle;\n",
       "    }\n",
       "\n",
       "    .dataframe tbody tr th {\n",
       "        vertical-align: top;\n",
       "    }\n",
       "\n",
       "    .dataframe thead th {\n",
       "        text-align: right;\n",
       "    }\n",
       "</style>\n",
       "<table border=\"1\" class=\"dataframe\">\n",
       "  <thead>\n",
       "    <tr style=\"text-align: right;\">\n",
       "      <th></th>\n",
       "      <th>Pclass</th>\n",
       "      <th>Sex</th>\n",
       "      <th>Age</th>\n",
       "      <th>SibSp</th>\n",
       "      <th>Parch</th>\n",
       "      <th>Cabin</th>\n",
       "      <th>Embarked</th>\n",
       "    </tr>\n",
       "  </thead>\n",
       "  <tbody>\n",
       "    <tr>\n",
       "      <th>0</th>\n",
       "      <td>3.0</td>\n",
       "      <td>0.0</td>\n",
       "      <td>34.50000</td>\n",
       "      <td>0.0</td>\n",
       "      <td>0.0</td>\n",
       "      <td>0.0</td>\n",
       "      <td>2.0</td>\n",
       "    </tr>\n",
       "    <tr>\n",
       "      <th>1</th>\n",
       "      <td>3.0</td>\n",
       "      <td>1.0</td>\n",
       "      <td>47.00000</td>\n",
       "      <td>1.0</td>\n",
       "      <td>0.0</td>\n",
       "      <td>0.0</td>\n",
       "      <td>0.0</td>\n",
       "    </tr>\n",
       "    <tr>\n",
       "      <th>2</th>\n",
       "      <td>2.0</td>\n",
       "      <td>0.0</td>\n",
       "      <td>62.00000</td>\n",
       "      <td>0.0</td>\n",
       "      <td>0.0</td>\n",
       "      <td>0.0</td>\n",
       "      <td>2.0</td>\n",
       "    </tr>\n",
       "    <tr>\n",
       "      <th>3</th>\n",
       "      <td>3.0</td>\n",
       "      <td>0.0</td>\n",
       "      <td>27.00000</td>\n",
       "      <td>0.0</td>\n",
       "      <td>0.0</td>\n",
       "      <td>0.0</td>\n",
       "      <td>0.0</td>\n",
       "    </tr>\n",
       "    <tr>\n",
       "      <th>4</th>\n",
       "      <td>3.0</td>\n",
       "      <td>1.0</td>\n",
       "      <td>22.00000</td>\n",
       "      <td>1.0</td>\n",
       "      <td>1.0</td>\n",
       "      <td>0.0</td>\n",
       "      <td>0.0</td>\n",
       "    </tr>\n",
       "    <tr>\n",
       "      <th>...</th>\n",
       "      <td>...</td>\n",
       "      <td>...</td>\n",
       "      <td>...</td>\n",
       "      <td>...</td>\n",
       "      <td>...</td>\n",
       "      <td>...</td>\n",
       "      <td>...</td>\n",
       "    </tr>\n",
       "    <tr>\n",
       "      <th>413</th>\n",
       "      <td>3.0</td>\n",
       "      <td>0.0</td>\n",
       "      <td>30.27259</td>\n",
       "      <td>0.0</td>\n",
       "      <td>0.0</td>\n",
       "      <td>0.0</td>\n",
       "      <td>0.0</td>\n",
       "    </tr>\n",
       "    <tr>\n",
       "      <th>414</th>\n",
       "      <td>1.0</td>\n",
       "      <td>1.0</td>\n",
       "      <td>39.00000</td>\n",
       "      <td>0.0</td>\n",
       "      <td>0.0</td>\n",
       "      <td>1.0</td>\n",
       "      <td>1.0</td>\n",
       "    </tr>\n",
       "    <tr>\n",
       "      <th>415</th>\n",
       "      <td>3.0</td>\n",
       "      <td>0.0</td>\n",
       "      <td>38.50000</td>\n",
       "      <td>0.0</td>\n",
       "      <td>0.0</td>\n",
       "      <td>0.0</td>\n",
       "      <td>0.0</td>\n",
       "    </tr>\n",
       "    <tr>\n",
       "      <th>416</th>\n",
       "      <td>3.0</td>\n",
       "      <td>0.0</td>\n",
       "      <td>30.27259</td>\n",
       "      <td>0.0</td>\n",
       "      <td>0.0</td>\n",
       "      <td>0.0</td>\n",
       "      <td>0.0</td>\n",
       "    </tr>\n",
       "    <tr>\n",
       "      <th>417</th>\n",
       "      <td>3.0</td>\n",
       "      <td>0.0</td>\n",
       "      <td>30.27259</td>\n",
       "      <td>1.0</td>\n",
       "      <td>1.0</td>\n",
       "      <td>0.0</td>\n",
       "      <td>1.0</td>\n",
       "    </tr>\n",
       "  </tbody>\n",
       "</table>\n",
       "<p>418 rows × 7 columns</p>\n",
       "</div>"
      ],
      "text/plain": [
       "     Pclass  Sex       Age  SibSp  Parch  Cabin  Embarked\n",
       "0       3.0  0.0  34.50000    0.0    0.0    0.0       2.0\n",
       "1       3.0  1.0  47.00000    1.0    0.0    0.0       0.0\n",
       "2       2.0  0.0  62.00000    0.0    0.0    0.0       2.0\n",
       "3       3.0  0.0  27.00000    0.0    0.0    0.0       0.0\n",
       "4       3.0  1.0  22.00000    1.0    1.0    0.0       0.0\n",
       "..      ...  ...       ...    ...    ...    ...       ...\n",
       "413     3.0  0.0  30.27259    0.0    0.0    0.0       0.0\n",
       "414     1.0  1.0  39.00000    0.0    0.0    1.0       1.0\n",
       "415     3.0  0.0  38.50000    0.0    0.0    0.0       0.0\n",
       "416     3.0  0.0  30.27259    0.0    0.0    0.0       0.0\n",
       "417     3.0  0.0  30.27259    1.0    1.0    0.0       1.0\n",
       "\n",
       "[418 rows x 7 columns]"
      ]
     },
     "execution_count": 77,
     "metadata": {},
     "output_type": "execute_result"
    }
   ],
   "source": [
    "titanic_test"
   ]
  },
  {
   "cell_type": "code",
   "execution_count": 78,
   "id": "75b021c4",
   "metadata": {
    "ExecuteTime": {
     "end_time": "2021-08-08T13:18:42.664478Z",
     "start_time": "2021-08-08T13:18:42.648856Z"
    }
   },
   "outputs": [],
   "source": [
    "X_test = titanic_test"
   ]
  },
  {
   "cell_type": "code",
   "execution_count": 79,
   "id": "1a7ad1a0",
   "metadata": {
    "ExecuteTime": {
     "end_time": "2021-08-08T13:18:42.695721Z",
     "start_time": "2021-08-08T13:18:42.664478Z"
    }
   },
   "outputs": [],
   "source": [
    "# lets normalize the dataset using StandarScaler\n",
    "from sklearn.preprocessing import StandardScaler,MinMaxScaler\n",
    "scale = MinMaxScaler()\n",
    "X_test = scale.fit_transform(X_test) # convert it to array then normalizing"
   ]
  },
  {
   "cell_type": "code",
   "execution_count": 80,
   "id": "984f2e39",
   "metadata": {
    "ExecuteTime": {
     "end_time": "2021-08-08T13:18:42.711342Z",
     "start_time": "2021-08-08T13:18:42.695721Z"
    }
   },
   "outputs": [
    {
     "data": {
      "text/plain": [
       "array([[1.        , 0.        , 0.4527232 , ..., 0.        , 0.        ,\n",
       "        1.        ],\n",
       "       [1.        , 1.        , 0.61756561, ..., 0.        , 0.        ,\n",
       "        0.        ],\n",
       "       [0.5       , 0.        , 0.8153765 , ..., 0.        , 0.        ,\n",
       "        1.        ],\n",
       "       ...,\n",
       "       [1.        , 0.        , 0.50547277, ..., 0.        , 0.        ,\n",
       "        0.        ],\n",
       "       [1.        , 0.        , 0.39697468, ..., 0.        , 0.        ,\n",
       "        0.        ],\n",
       "       [1.        , 0.        , 0.39697468, ..., 0.11111111, 0.        ,\n",
       "        0.5       ]])"
      ]
     },
     "execution_count": 80,
     "metadata": {},
     "output_type": "execute_result"
    }
   ],
   "source": [
    "X_test"
   ]
  },
  {
   "cell_type": "code",
   "execution_count": 81,
   "id": "05a842b9",
   "metadata": {
    "ExecuteTime": {
     "end_time": "2021-08-08T13:18:42.733496Z",
     "start_time": "2021-08-08T13:18:42.711342Z"
    }
   },
   "outputs": [
    {
     "data": {
      "text/plain": [
       "(418, 7)"
      ]
     },
     "execution_count": 81,
     "metadata": {},
     "output_type": "execute_result"
    }
   ],
   "source": [
    "# after normalizing\n",
    "X_test.shape"
   ]
  },
  {
   "cell_type": "code",
   "execution_count": 82,
   "id": "4fbca480",
   "metadata": {
    "ExecuteTime": {
     "end_time": "2021-08-08T13:18:43.034332Z",
     "start_time": "2021-08-08T13:18:42.733496Z"
    }
   },
   "outputs": [
    {
     "data": {
      "text/html": [
       "<div>\n",
       "<style scoped>\n",
       "    .dataframe tbody tr th:only-of-type {\n",
       "        vertical-align: middle;\n",
       "    }\n",
       "\n",
       "    .dataframe tbody tr th {\n",
       "        vertical-align: top;\n",
       "    }\n",
       "\n",
       "    .dataframe thead th {\n",
       "        text-align: right;\n",
       "    }\n",
       "</style>\n",
       "<table border=\"1\" class=\"dataframe\">\n",
       "  <thead>\n",
       "    <tr style=\"text-align: right;\">\n",
       "      <th></th>\n",
       "      <th>PassengerId</th>\n",
       "      <th>Survived</th>\n",
       "    </tr>\n",
       "  </thead>\n",
       "  <tbody>\n",
       "    <tr>\n",
       "      <th>0</th>\n",
       "      <td>892</td>\n",
       "      <td>0</td>\n",
       "    </tr>\n",
       "    <tr>\n",
       "      <th>1</th>\n",
       "      <td>893</td>\n",
       "      <td>0</td>\n",
       "    </tr>\n",
       "    <tr>\n",
       "      <th>2</th>\n",
       "      <td>894</td>\n",
       "      <td>0</td>\n",
       "    </tr>\n",
       "    <tr>\n",
       "      <th>3</th>\n",
       "      <td>895</td>\n",
       "      <td>0</td>\n",
       "    </tr>\n",
       "    <tr>\n",
       "      <th>4</th>\n",
       "      <td>896</td>\n",
       "      <td>1</td>\n",
       "    </tr>\n",
       "    <tr>\n",
       "      <th>...</th>\n",
       "      <td>...</td>\n",
       "      <td>...</td>\n",
       "    </tr>\n",
       "    <tr>\n",
       "      <th>413</th>\n",
       "      <td>1305</td>\n",
       "      <td>1</td>\n",
       "    </tr>\n",
       "    <tr>\n",
       "      <th>414</th>\n",
       "      <td>1306</td>\n",
       "      <td>1</td>\n",
       "    </tr>\n",
       "    <tr>\n",
       "      <th>415</th>\n",
       "      <td>1307</td>\n",
       "      <td>0</td>\n",
       "    </tr>\n",
       "    <tr>\n",
       "      <th>416</th>\n",
       "      <td>1308</td>\n",
       "      <td>1</td>\n",
       "    </tr>\n",
       "    <tr>\n",
       "      <th>417</th>\n",
       "      <td>1309</td>\n",
       "      <td>0</td>\n",
       "    </tr>\n",
       "  </tbody>\n",
       "</table>\n",
       "<p>418 rows × 2 columns</p>\n",
       "</div>"
      ],
      "text/plain": [
       "     PassengerId  Survived\n",
       "0            892         0\n",
       "1            893         0\n",
       "2            894         0\n",
       "3            895         0\n",
       "4            896         1\n",
       "..           ...       ...\n",
       "413         1305         1\n",
       "414         1306         1\n",
       "415         1307         0\n",
       "416         1308         1\n",
       "417         1309         0\n",
       "\n",
       "[418 rows x 2 columns]"
      ]
     },
     "execution_count": 82,
     "metadata": {},
     "output_type": "execute_result"
    }
   ],
   "source": [
    "# using machine learning\n",
    "model1 = RandomForestClassifier()\n",
    "model1.fit(x_test, y_test)\n",
    "model1_result = model1.predict(X_test)\n",
    "model1_result = model1_result.astype('int64')\n",
    "\n",
    "# write it to csv\n",
    "raw_submission_ml = {\n",
    "        \"PassengerId\": passenger_id_test.values,\n",
    "        \"Survived\": model1_result\n",
    "    }\n",
    "submission_ml = pd.DataFrame(data=raw_submission_ml)\n",
    "submission_ml.to_csv('submission/submission_ml1.csv', index=False)\n",
    "submission_ml"
   ]
  },
  {
   "cell_type": "code",
   "execution_count": 83,
   "id": "53d5bb6e",
   "metadata": {
    "ExecuteTime": {
     "end_time": "2021-08-08T13:18:43.212663Z",
     "start_time": "2021-08-08T13:18:43.034332Z"
    }
   },
   "outputs": [
    {
     "data": {
      "text/html": [
       "<div>\n",
       "<style scoped>\n",
       "    .dataframe tbody tr th:only-of-type {\n",
       "        vertical-align: middle;\n",
       "    }\n",
       "\n",
       "    .dataframe tbody tr th {\n",
       "        vertical-align: top;\n",
       "    }\n",
       "\n",
       "    .dataframe thead th {\n",
       "        text-align: right;\n",
       "    }\n",
       "</style>\n",
       "<table border=\"1\" class=\"dataframe\">\n",
       "  <thead>\n",
       "    <tr style=\"text-align: right;\">\n",
       "      <th></th>\n",
       "      <th>PassengerId</th>\n",
       "      <th>Survived</th>\n",
       "    </tr>\n",
       "  </thead>\n",
       "  <tbody>\n",
       "    <tr>\n",
       "      <th>0</th>\n",
       "      <td>892</td>\n",
       "      <td>0</td>\n",
       "    </tr>\n",
       "    <tr>\n",
       "      <th>1</th>\n",
       "      <td>893</td>\n",
       "      <td>1</td>\n",
       "    </tr>\n",
       "    <tr>\n",
       "      <th>2</th>\n",
       "      <td>894</td>\n",
       "      <td>0</td>\n",
       "    </tr>\n",
       "    <tr>\n",
       "      <th>3</th>\n",
       "      <td>895</td>\n",
       "      <td>0</td>\n",
       "    </tr>\n",
       "    <tr>\n",
       "      <th>4</th>\n",
       "      <td>896</td>\n",
       "      <td>0</td>\n",
       "    </tr>\n",
       "    <tr>\n",
       "      <th>...</th>\n",
       "      <td>...</td>\n",
       "      <td>...</td>\n",
       "    </tr>\n",
       "    <tr>\n",
       "      <th>413</th>\n",
       "      <td>1305</td>\n",
       "      <td>1</td>\n",
       "    </tr>\n",
       "    <tr>\n",
       "      <th>414</th>\n",
       "      <td>1306</td>\n",
       "      <td>1</td>\n",
       "    </tr>\n",
       "    <tr>\n",
       "      <th>415</th>\n",
       "      <td>1307</td>\n",
       "      <td>0</td>\n",
       "    </tr>\n",
       "    <tr>\n",
       "      <th>416</th>\n",
       "      <td>1308</td>\n",
       "      <td>1</td>\n",
       "    </tr>\n",
       "    <tr>\n",
       "      <th>417</th>\n",
       "      <td>1309</td>\n",
       "      <td>1</td>\n",
       "    </tr>\n",
       "  </tbody>\n",
       "</table>\n",
       "<p>418 rows × 2 columns</p>\n",
       "</div>"
      ],
      "text/plain": [
       "     PassengerId  Survived\n",
       "0            892         0\n",
       "1            893         1\n",
       "2            894         0\n",
       "3            895         0\n",
       "4            896         0\n",
       "..           ...       ...\n",
       "413         1305         1\n",
       "414         1306         1\n",
       "415         1307         0\n",
       "416         1308         1\n",
       "417         1309         1\n",
       "\n",
       "[418 rows x 2 columns]"
      ]
     },
     "execution_count": 83,
     "metadata": {},
     "output_type": "execute_result"
    }
   ],
   "source": [
    "# using machine learning\n",
    "model2 = GradientBoostingClassifier()\n",
    "model2.fit(x_test, y_test)\n",
    "model2_result = model2.predict(X_test)\n",
    "model2_result = model2_result.astype('int64')\n",
    "\n",
    "# write it to csv\n",
    "raw_submission_ml2 = {\n",
    "        \"PassengerId\": passenger_id_test.values,\n",
    "        \"Survived\": model2_result\n",
    "    }\n",
    "submission_ml2 = pd.DataFrame(data=raw_submission_ml2)\n",
    "submission_ml2.to_csv('submission/submission_ml2.csv', index=False)\n",
    "submission_ml2"
   ]
  },
  {
   "cell_type": "code",
   "execution_count": 84,
   "id": "3e9dfbba",
   "metadata": {
    "ExecuteTime": {
     "end_time": "2021-08-08T13:18:43.250440Z",
     "start_time": "2021-08-08T13:18:43.219178Z"
    }
   },
   "outputs": [
    {
     "data": {
      "text/html": [
       "<div>\n",
       "<style scoped>\n",
       "    .dataframe tbody tr th:only-of-type {\n",
       "        vertical-align: middle;\n",
       "    }\n",
       "\n",
       "    .dataframe tbody tr th {\n",
       "        vertical-align: top;\n",
       "    }\n",
       "\n",
       "    .dataframe thead th {\n",
       "        text-align: right;\n",
       "    }\n",
       "</style>\n",
       "<table border=\"1\" class=\"dataframe\">\n",
       "  <thead>\n",
       "    <tr style=\"text-align: right;\">\n",
       "      <th></th>\n",
       "      <th>PassengerId</th>\n",
       "      <th>Survived</th>\n",
       "    </tr>\n",
       "  </thead>\n",
       "  <tbody>\n",
       "    <tr>\n",
       "      <th>0</th>\n",
       "      <td>892</td>\n",
       "      <td>0</td>\n",
       "    </tr>\n",
       "    <tr>\n",
       "      <th>1</th>\n",
       "      <td>893</td>\n",
       "      <td>0</td>\n",
       "    </tr>\n",
       "    <tr>\n",
       "      <th>2</th>\n",
       "      <td>894</td>\n",
       "      <td>0</td>\n",
       "    </tr>\n",
       "    <tr>\n",
       "      <th>3</th>\n",
       "      <td>895</td>\n",
       "      <td>0</td>\n",
       "    </tr>\n",
       "    <tr>\n",
       "      <th>4</th>\n",
       "      <td>896</td>\n",
       "      <td>0</td>\n",
       "    </tr>\n",
       "    <tr>\n",
       "      <th>...</th>\n",
       "      <td>...</td>\n",
       "      <td>...</td>\n",
       "    </tr>\n",
       "    <tr>\n",
       "      <th>413</th>\n",
       "      <td>1305</td>\n",
       "      <td>1</td>\n",
       "    </tr>\n",
       "    <tr>\n",
       "      <th>414</th>\n",
       "      <td>1306</td>\n",
       "      <td>1</td>\n",
       "    </tr>\n",
       "    <tr>\n",
       "      <th>415</th>\n",
       "      <td>1307</td>\n",
       "      <td>0</td>\n",
       "    </tr>\n",
       "    <tr>\n",
       "      <th>416</th>\n",
       "      <td>1308</td>\n",
       "      <td>1</td>\n",
       "    </tr>\n",
       "    <tr>\n",
       "      <th>417</th>\n",
       "      <td>1309</td>\n",
       "      <td>0</td>\n",
       "    </tr>\n",
       "  </tbody>\n",
       "</table>\n",
       "<p>418 rows × 2 columns</p>\n",
       "</div>"
      ],
      "text/plain": [
       "     PassengerId  Survived\n",
       "0            892         0\n",
       "1            893         0\n",
       "2            894         0\n",
       "3            895         0\n",
       "4            896         0\n",
       "..           ...       ...\n",
       "413         1305         1\n",
       "414         1306         1\n",
       "415         1307         0\n",
       "416         1308         1\n",
       "417         1309         0\n",
       "\n",
       "[418 rows x 2 columns]"
      ]
     },
     "execution_count": 84,
     "metadata": {},
     "output_type": "execute_result"
    }
   ],
   "source": [
    "# using machine learning\n",
    "model3 = DecisionTreeClassifier()\n",
    "model3.fit(x_test, y_test)\n",
    "model3_result = model3.predict(X_test)\n",
    "model3_result = model3_result.astype('int64')\n",
    "\n",
    "# write it to csv\n",
    "raw_submission_ml3 = {\n",
    "        \"PassengerId\": passenger_id_test.values,\n",
    "        \"Survived\": model3_result\n",
    "    }\n",
    "submission_ml3 = pd.DataFrame(data=raw_submission_ml3)\n",
    "submission_ml3.to_csv('submission/submission_ml3.csv', index=False)\n",
    "submission_ml3"
   ]
  },
  {
   "cell_type": "code",
   "execution_count": 85,
   "id": "4ea62cd0",
   "metadata": {
    "ExecuteTime": {
     "end_time": "2021-08-08T13:18:43.312929Z",
     "start_time": "2021-08-08T13:18:43.250440Z"
    }
   },
   "outputs": [
    {
     "data": {
      "text/html": [
       "<div>\n",
       "<style scoped>\n",
       "    .dataframe tbody tr th:only-of-type {\n",
       "        vertical-align: middle;\n",
       "    }\n",
       "\n",
       "    .dataframe tbody tr th {\n",
       "        vertical-align: top;\n",
       "    }\n",
       "\n",
       "    .dataframe thead th {\n",
       "        text-align: right;\n",
       "    }\n",
       "</style>\n",
       "<table border=\"1\" class=\"dataframe\">\n",
       "  <thead>\n",
       "    <tr style=\"text-align: right;\">\n",
       "      <th></th>\n",
       "      <th>PassengerId</th>\n",
       "      <th>Survived</th>\n",
       "    </tr>\n",
       "  </thead>\n",
       "  <tbody>\n",
       "    <tr>\n",
       "      <th>0</th>\n",
       "      <td>892</td>\n",
       "      <td>0</td>\n",
       "    </tr>\n",
       "    <tr>\n",
       "      <th>1</th>\n",
       "      <td>893</td>\n",
       "      <td>0</td>\n",
       "    </tr>\n",
       "    <tr>\n",
       "      <th>2</th>\n",
       "      <td>894</td>\n",
       "      <td>0</td>\n",
       "    </tr>\n",
       "    <tr>\n",
       "      <th>3</th>\n",
       "      <td>895</td>\n",
       "      <td>0</td>\n",
       "    </tr>\n",
       "    <tr>\n",
       "      <th>4</th>\n",
       "      <td>896</td>\n",
       "      <td>0</td>\n",
       "    </tr>\n",
       "    <tr>\n",
       "      <th>...</th>\n",
       "      <td>...</td>\n",
       "      <td>...</td>\n",
       "    </tr>\n",
       "    <tr>\n",
       "      <th>413</th>\n",
       "      <td>1305</td>\n",
       "      <td>1</td>\n",
       "    </tr>\n",
       "    <tr>\n",
       "      <th>414</th>\n",
       "      <td>1306</td>\n",
       "      <td>1</td>\n",
       "    </tr>\n",
       "    <tr>\n",
       "      <th>415</th>\n",
       "      <td>1307</td>\n",
       "      <td>0</td>\n",
       "    </tr>\n",
       "    <tr>\n",
       "      <th>416</th>\n",
       "      <td>1308</td>\n",
       "      <td>1</td>\n",
       "    </tr>\n",
       "    <tr>\n",
       "      <th>417</th>\n",
       "      <td>1309</td>\n",
       "      <td>0</td>\n",
       "    </tr>\n",
       "  </tbody>\n",
       "</table>\n",
       "<p>418 rows × 2 columns</p>\n",
       "</div>"
      ],
      "text/plain": [
       "     PassengerId  Survived\n",
       "0            892         0\n",
       "1            893         0\n",
       "2            894         0\n",
       "3            895         0\n",
       "4            896         0\n",
       "..           ...       ...\n",
       "413         1305         1\n",
       "414         1306         1\n",
       "415         1307         0\n",
       "416         1308         1\n",
       "417         1309         0\n",
       "\n",
       "[418 rows x 2 columns]"
      ]
     },
     "execution_count": 85,
     "metadata": {},
     "output_type": "execute_result"
    }
   ],
   "source": [
    "# using machine learning\n",
    "model4 = KNeighborsClassifier()\n",
    "model4.fit(x_test, y_test)\n",
    "model4_result = model4.predict(X_test)\n",
    "model4_result = model4_result.astype('int64')\n",
    "\n",
    "# write it to csv\n",
    "raw_submission_ml4 = {\n",
    "        \"PassengerId\": passenger_id_test.values,\n",
    "        \"Survived\": model4_result\n",
    "    }\n",
    "submission_ml4 = pd.DataFrame(data=raw_submission_ml4)\n",
    "submission_ml4.to_csv('submission/submission_ml4.csv', index=False)\n",
    "submission_ml4"
   ]
  },
  {
   "cell_type": "code",
   "execution_count": 86,
   "id": "28adf753",
   "metadata": {
    "ExecuteTime": {
     "end_time": "2021-08-08T13:18:43.350710Z",
     "start_time": "2021-08-08T13:18:43.312929Z"
    }
   },
   "outputs": [
    {
     "data": {
      "text/html": [
       "<div>\n",
       "<style scoped>\n",
       "    .dataframe tbody tr th:only-of-type {\n",
       "        vertical-align: middle;\n",
       "    }\n",
       "\n",
       "    .dataframe tbody tr th {\n",
       "        vertical-align: top;\n",
       "    }\n",
       "\n",
       "    .dataframe thead th {\n",
       "        text-align: right;\n",
       "    }\n",
       "</style>\n",
       "<table border=\"1\" class=\"dataframe\">\n",
       "  <thead>\n",
       "    <tr style=\"text-align: right;\">\n",
       "      <th></th>\n",
       "      <th>PassengerId</th>\n",
       "      <th>Survived</th>\n",
       "    </tr>\n",
       "  </thead>\n",
       "  <tbody>\n",
       "    <tr>\n",
       "      <th>0</th>\n",
       "      <td>892</td>\n",
       "      <td>0</td>\n",
       "    </tr>\n",
       "    <tr>\n",
       "      <th>1</th>\n",
       "      <td>893</td>\n",
       "      <td>1</td>\n",
       "    </tr>\n",
       "    <tr>\n",
       "      <th>2</th>\n",
       "      <td>894</td>\n",
       "      <td>0</td>\n",
       "    </tr>\n",
       "    <tr>\n",
       "      <th>3</th>\n",
       "      <td>895</td>\n",
       "      <td>0</td>\n",
       "    </tr>\n",
       "    <tr>\n",
       "      <th>4</th>\n",
       "      <td>896</td>\n",
       "      <td>1</td>\n",
       "    </tr>\n",
       "    <tr>\n",
       "      <th>...</th>\n",
       "      <td>...</td>\n",
       "      <td>...</td>\n",
       "    </tr>\n",
       "    <tr>\n",
       "      <th>413</th>\n",
       "      <td>1305</td>\n",
       "      <td>0</td>\n",
       "    </tr>\n",
       "    <tr>\n",
       "      <th>414</th>\n",
       "      <td>1306</td>\n",
       "      <td>1</td>\n",
       "    </tr>\n",
       "    <tr>\n",
       "      <th>415</th>\n",
       "      <td>1307</td>\n",
       "      <td>0</td>\n",
       "    </tr>\n",
       "    <tr>\n",
       "      <th>416</th>\n",
       "      <td>1308</td>\n",
       "      <td>0</td>\n",
       "    </tr>\n",
       "    <tr>\n",
       "      <th>417</th>\n",
       "      <td>1309</td>\n",
       "      <td>0</td>\n",
       "    </tr>\n",
       "  </tbody>\n",
       "</table>\n",
       "<p>418 rows × 2 columns</p>\n",
       "</div>"
      ],
      "text/plain": [
       "     PassengerId  Survived\n",
       "0            892         0\n",
       "1            893         1\n",
       "2            894         0\n",
       "3            895         0\n",
       "4            896         1\n",
       "..           ...       ...\n",
       "413         1305         0\n",
       "414         1306         1\n",
       "415         1307         0\n",
       "416         1308         0\n",
       "417         1309         0\n",
       "\n",
       "[418 rows x 2 columns]"
      ]
     },
     "execution_count": 86,
     "metadata": {},
     "output_type": "execute_result"
    }
   ],
   "source": [
    "# using machine learning\n",
    "model5 = SVC()\n",
    "model5.fit(x_test, y_test)\n",
    "model5_result = model5.predict(X_test)\n",
    "model5_result = model5_result.astype('int64')\n",
    "\n",
    "# write it to csv\n",
    "raw_submission_ml5 = {\n",
    "        \"PassengerId\": passenger_id_test.values,\n",
    "        \"Survived\": model5_result\n",
    "    }\n",
    "submission_ml5 = pd.DataFrame(data=raw_submission_ml5)\n",
    "submission_ml5.to_csv('submission/submission_ml5.csv', index=False)\n",
    "submission_ml5"
   ]
  },
  {
   "cell_type": "code",
   "execution_count": 87,
   "id": "45ba83cc",
   "metadata": {
    "ExecuteTime": {
     "end_time": "2021-08-08T13:18:43.413192Z",
     "start_time": "2021-08-08T13:18:43.350710Z"
    }
   },
   "outputs": [
    {
     "data": {
      "text/html": [
       "<div>\n",
       "<style scoped>\n",
       "    .dataframe tbody tr th:only-of-type {\n",
       "        vertical-align: middle;\n",
       "    }\n",
       "\n",
       "    .dataframe tbody tr th {\n",
       "        vertical-align: top;\n",
       "    }\n",
       "\n",
       "    .dataframe thead th {\n",
       "        text-align: right;\n",
       "    }\n",
       "</style>\n",
       "<table border=\"1\" class=\"dataframe\">\n",
       "  <thead>\n",
       "    <tr style=\"text-align: right;\">\n",
       "      <th></th>\n",
       "      <th>PassengerId</th>\n",
       "      <th>Survived</th>\n",
       "    </tr>\n",
       "  </thead>\n",
       "  <tbody>\n",
       "    <tr>\n",
       "      <th>0</th>\n",
       "      <td>892</td>\n",
       "      <td>0</td>\n",
       "    </tr>\n",
       "    <tr>\n",
       "      <th>1</th>\n",
       "      <td>893</td>\n",
       "      <td>1</td>\n",
       "    </tr>\n",
       "    <tr>\n",
       "      <th>2</th>\n",
       "      <td>894</td>\n",
       "      <td>0</td>\n",
       "    </tr>\n",
       "    <tr>\n",
       "      <th>3</th>\n",
       "      <td>895</td>\n",
       "      <td>0</td>\n",
       "    </tr>\n",
       "    <tr>\n",
       "      <th>4</th>\n",
       "      <td>896</td>\n",
       "      <td>1</td>\n",
       "    </tr>\n",
       "    <tr>\n",
       "      <th>...</th>\n",
       "      <td>...</td>\n",
       "      <td>...</td>\n",
       "    </tr>\n",
       "    <tr>\n",
       "      <th>413</th>\n",
       "      <td>1305</td>\n",
       "      <td>0</td>\n",
       "    </tr>\n",
       "    <tr>\n",
       "      <th>414</th>\n",
       "      <td>1306</td>\n",
       "      <td>1</td>\n",
       "    </tr>\n",
       "    <tr>\n",
       "      <th>415</th>\n",
       "      <td>1307</td>\n",
       "      <td>0</td>\n",
       "    </tr>\n",
       "    <tr>\n",
       "      <th>416</th>\n",
       "      <td>1308</td>\n",
       "      <td>0</td>\n",
       "    </tr>\n",
       "    <tr>\n",
       "      <th>417</th>\n",
       "      <td>1309</td>\n",
       "      <td>0</td>\n",
       "    </tr>\n",
       "  </tbody>\n",
       "</table>\n",
       "<p>418 rows × 2 columns</p>\n",
       "</div>"
      ],
      "text/plain": [
       "     PassengerId  Survived\n",
       "0            892         0\n",
       "1            893         1\n",
       "2            894         0\n",
       "3            895         0\n",
       "4            896         1\n",
       "..           ...       ...\n",
       "413         1305         0\n",
       "414         1306         1\n",
       "415         1307         0\n",
       "416         1308         0\n",
       "417         1309         0\n",
       "\n",
       "[418 rows x 2 columns]"
      ]
     },
     "execution_count": 87,
     "metadata": {},
     "output_type": "execute_result"
    }
   ],
   "source": [
    "# using machine learning\n",
    "model6 = NuSVC()\n",
    "model6.fit(x_test, y_test)\n",
    "model6_result = model6.predict(X_test)\n",
    "model6_result = model6_result.astype('int64')\n",
    "\n",
    "# write it to csv\n",
    "raw_submission_ml6 = {\n",
    "        \"PassengerId\": passenger_id_test.values,\n",
    "        \"Survived\": model5_result\n",
    "    }\n",
    "submission_ml6 = pd.DataFrame(data=raw_submission_ml6)\n",
    "submission_ml6.to_csv('submission/submission_ml6.csv', index=False)\n",
    "submission_ml6"
   ]
  },
  {
   "cell_type": "code",
   "execution_count": 89,
   "id": "5324baf5",
   "metadata": {
    "ExecuteTime": {
     "end_time": "2021-08-08T13:23:30.051559Z",
     "start_time": "2021-08-08T13:23:29.941588Z"
    }
   },
   "outputs": [
    {
     "data": {
      "text/html": [
       "<div>\n",
       "<style scoped>\n",
       "    .dataframe tbody tr th:only-of-type {\n",
       "        vertical-align: middle;\n",
       "    }\n",
       "\n",
       "    .dataframe tbody tr th {\n",
       "        vertical-align: top;\n",
       "    }\n",
       "\n",
       "    .dataframe thead th {\n",
       "        text-align: right;\n",
       "    }\n",
       "</style>\n",
       "<table border=\"1\" class=\"dataframe\">\n",
       "  <thead>\n",
       "    <tr style=\"text-align: right;\">\n",
       "      <th></th>\n",
       "      <th>PassengerId</th>\n",
       "      <th>Survived</th>\n",
       "    </tr>\n",
       "  </thead>\n",
       "  <tbody>\n",
       "    <tr>\n",
       "      <th>0</th>\n",
       "      <td>892</td>\n",
       "      <td>0</td>\n",
       "    </tr>\n",
       "    <tr>\n",
       "      <th>1</th>\n",
       "      <td>893</td>\n",
       "      <td>0</td>\n",
       "    </tr>\n",
       "    <tr>\n",
       "      <th>2</th>\n",
       "      <td>894</td>\n",
       "      <td>0</td>\n",
       "    </tr>\n",
       "    <tr>\n",
       "      <th>3</th>\n",
       "      <td>895</td>\n",
       "      <td>0</td>\n",
       "    </tr>\n",
       "    <tr>\n",
       "      <th>4</th>\n",
       "      <td>896</td>\n",
       "      <td>1</td>\n",
       "    </tr>\n",
       "    <tr>\n",
       "      <th>...</th>\n",
       "      <td>...</td>\n",
       "      <td>...</td>\n",
       "    </tr>\n",
       "    <tr>\n",
       "      <th>413</th>\n",
       "      <td>1305</td>\n",
       "      <td>0</td>\n",
       "    </tr>\n",
       "    <tr>\n",
       "      <th>414</th>\n",
       "      <td>1306</td>\n",
       "      <td>1</td>\n",
       "    </tr>\n",
       "    <tr>\n",
       "      <th>415</th>\n",
       "      <td>1307</td>\n",
       "      <td>0</td>\n",
       "    </tr>\n",
       "    <tr>\n",
       "      <th>416</th>\n",
       "      <td>1308</td>\n",
       "      <td>0</td>\n",
       "    </tr>\n",
       "    <tr>\n",
       "      <th>417</th>\n",
       "      <td>1309</td>\n",
       "      <td>0</td>\n",
       "    </tr>\n",
       "  </tbody>\n",
       "</table>\n",
       "<p>418 rows × 2 columns</p>\n",
       "</div>"
      ],
      "text/plain": [
       "     PassengerId  Survived\n",
       "0            892         0\n",
       "1            893         0\n",
       "2            894         0\n",
       "3            895         0\n",
       "4            896         1\n",
       "..           ...       ...\n",
       "413         1305         0\n",
       "414         1306         1\n",
       "415         1307         0\n",
       "416         1308         0\n",
       "417         1309         0\n",
       "\n",
       "[418 rows x 2 columns]"
      ]
     },
     "execution_count": 89,
     "metadata": {},
     "output_type": "execute_result"
    }
   ],
   "source": [
    "# using Deep learning\n",
    "model_result = model.predict(X_test)\n",
    "\n",
    "def model_to_threshold(predictions, threshold):\n",
    "    test = [x for x in predictions]\n",
    "    pred = []\n",
    "    for x in test:\n",
    "        if x[0] > threshold: # Higher Threshold\n",
    "            pred.append(1)\n",
    "        else:                # Lower Threshold\n",
    "            pred.append(0)\n",
    "    return np.array(pred).astype('int64')\n",
    "model_results = model_to_threshold(model_result, 0.48)\n",
    "\n",
    "# write it to csv\n",
    "raw_submission_dl = {\n",
    "        \"PassengerId\": passenger_id_test.values,\n",
    "        \"Survived\": model_results\n",
    "    }\n",
    "submission_dl = pd.DataFrame(data=raw_submission_dl)\n",
    "submission_dl.to_csv('submission/submission_dl.csv', index=False)\n",
    "submission_dl"
   ]
  }
 ],
 "metadata": {
  "kernelspec": {
   "display_name": "Python 3",
   "language": "python",
   "name": "python3"
  },
  "language_info": {
   "codemirror_mode": {
    "name": "ipython",
    "version": 3
   },
   "file_extension": ".py",
   "mimetype": "text/x-python",
   "name": "python",
   "nbconvert_exporter": "python",
   "pygments_lexer": "ipython3",
   "version": "3.8.5"
  }
 },
 "nbformat": 4,
 "nbformat_minor": 5
}
